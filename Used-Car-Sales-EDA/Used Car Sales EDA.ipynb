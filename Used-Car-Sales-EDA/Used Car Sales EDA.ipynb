{
 "cells": [
  {
   "cell_type": "markdown",
   "metadata": {
    "colab_type": "text",
    "id": "9ku0h8OsoHJz"
   },
   "source": [
    "<p align=\"center\"><img src=\"https://github.com/insaid2018/Term-1/blob/master/Images/INSAID_Full%20Logo.png?raw=true\" width=\"260\" height=\"110\" /></p>"
   ]
  },
  {
   "cell_type": "markdown",
   "metadata": {
    "colab_type": "text",
    "id": "NWvRwRdGoK5Y"
   },
   "source": [
    "---\n",
    "# **Table of Contents**\n",
    "---\n",
    "\n",
    "1. [**Introduction**](#Section1)<br>\n",
    "2. [**Problem Statement**](#Section2)<br>\n",
    "3. [**Installing & Importing Libraries**](#Section3)<br>\n",
    "  3.1 [**Installing Libraries**](#Section31)<br>\n",
    "  3.2 [**Upgrading Libraries**](#Section32)<br>\n",
    "  3.3 [**Importing Libraries**](#Section33)<br>\n",
    "4. [**Data Acquisition & Description**](#Section4)<br>\n",
    "5. [**Data Pre-Profiling**](#Section5)<br>\n",
    "6. [**Data Pre-Processing**](#Section6)<br>\n",
    "7. [**Data Post-Profiling**](#Section7)<br>\n",
    "8. [**Exploratory Data Analysis**](#Section8)<br>\n",
    "9. [**Summarization**](#Section9)</br>\n",
    "  9.1 [**Conclusion**](#Section91)</br>\n",
    "  9.2 [**Actionable Insights**](#Section91)</br>\n",
    "\n",
    "---"
   ]
  },
  {
   "cell_type": "markdown",
   "metadata": {
    "colab_type": "text",
    "id": "iACv_4iIoaLi"
   },
   "source": [
    "---\n",
    "<a name = Section1></a>\n",
    "# **1. Introduction**\n",
    "---\n",
    "<p align=\"center\"><img src=\"https://github.com/Sathish0911/Insaid-Casestudy-EDA/blob/main/Used-car-sales.jpg\"></p>\n",
    "\n",
    "The global used car market size was valued at USD 1,332.2 billion in 2019 and is expected to grow at a compound annual growth rate (CAGR) of 5.5% from 2020 to 2027.\n",
    "\n",
    "- The inability of customers to buy new cars became one of the reasons for the growing sales of used car volume, which is complemented by the investments made by the industry participants to establish their dealership network in the market. \n",
    "\n",
    "- Organised franchisee outlets, ease of financial support, certifications, after sales services and warranty all have enabled to build the confidence of the customers on the used cars.\n",
    "\n",
    "- Further, the role of online sales has become a critical growth factor in the market. Online sites in auto marketplaces have played an essential role in bringing access to consumers with a single touch.\n",
    "\n",
    "**A combination of such developments created a significant upsurge in the used car demand**\n",
    "\n",
    "<p align=\"center\"><img src=\"https://visme.co/blog/wp-content/uploads/2020/06/animated-interactive-infographics-header-wide.gif\"></p>\n",
    "\n",
    "For this case study, we would be considering a real life sample dataset of the used cars sales. The assumption is that the data set is correct and authentic.\n",
    "\n",
    "The case study would flow through the following 4 stages\n",
    "\n",
    "1. Problem Statement\n",
    "\n",
    "\n",
    "2. Data Preparation/Preprocessing\n",
    "\n",
    "\n",
    "3. Exploratory Data Analysis\n",
    "\n",
    "\n",
    "4. Decision-making\n",
    "\n"
   ]
  },
  {
   "cell_type": "markdown",
   "metadata": {
    "colab_type": "text",
    "id": "sOGJAM3AoePy"
   },
   "source": [
    "---\n",
    "<a name = Section2></a>\n",
    "# **2. Problem Statement**\n",
    "---\n",
    "\n",
    "  - Since the Used car market has increased, there is a need to understand the buying pattern and demand for the cars.\n",
    "  \n",
    "  - This understanding helps better Inventory management, providing best deals and also for the dealerships to tie up with financial institutions to improve the sales.\n",
    "  \n",
    "  - Though there are websites available for the predicition of used car's value for the customer experience, it becomes even more necessary to have a prediction for the dealership based on the customers buying trends.\n",
    "\n",
    "  - Even though there are websites that offers this service, their prediction method may not be the best.\n",
    " \n",
    "  - Such predictions also enable a better understanding of the market value while both buying and selling.\n",
    "\n",
    "<p align=\"center\"><img src=\"https://github.com/Sathish0911/Insaid-Casestudy-EDA/blob/main/car-sales-clipart.jpg\"></p>\n",
    "\n",
    "By this case study we shoud be able to understand the customers buying trends and preferences. This enables the dealerships/ franchises to increase their sales by \n",
    "- planning the buying of right models of cars\n",
    "- inventory managementand\n",
    "- host sales campaign and \n",
    "- provide better deals to customers."
   ]
  },
  {
   "cell_type": "markdown",
   "metadata": {
    "colab_type": "text",
    "id": "yzSAH3m9pLWi"
   },
   "source": [
    "---\n",
    "<a id = Section3></a>\n",
    "# **3. Installing & Importing Libraries**\n",
    "---\n",
    "\n",
    "- This section is emphasised on installing and importing the necessary libraries that will be required."
   ]
  },
  {
   "cell_type": "markdown",
   "metadata": {
    "colab_type": "text",
    "id": "M0y7joFPpOuQ"
   },
   "source": [
    "### **Installing Libraries**"
   ]
  },
  {
   "cell_type": "code",
   "execution_count": 1,
   "metadata": {
    "colab": {},
    "colab_type": "code",
    "id": "S3pqantTnmxX"
   },
   "outputs": [],
   "source": [
    "!pip install -q datascience                               # Package that is required by pandas profiling\n",
    "!pip install -q pandas-profiling                          # Library to generate basic statistics about data"
   ]
  },
  {
   "cell_type": "markdown",
   "metadata": {
    "colab_type": "text",
    "id": "pYQrkcl4pe8J"
   },
   "source": [
    "### **Upgrading Libraries**"
   ]
  },
  {
   "cell_type": "code",
   "execution_count": 2,
   "metadata": {
    "colab": {},
    "colab_type": "code",
    "id": "dmiiVvd-phhY"
   },
   "outputs": [],
   "source": [
    "!pip install -q --upgrade pandas-profiling                          # Upgrading pandas profiling to the latest version"
   ]
  },
  {
   "cell_type": "markdown",
   "metadata": {
    "colab_type": "text",
    "id": "PbyRyjDhpoJj"
   },
   "source": [
    "### **Importing Libraries**\n"
   ]
  },
  {
   "cell_type": "code",
   "execution_count": 3,
   "metadata": {
    "colab": {},
    "colab_type": "code",
    "id": "5RapekFlpptb"
   },
   "outputs": [],
   "source": [
    "import numpy as np                     \n",
    "\n",
    "import pandas as pd\n",
    "pd.set_option('mode.chained_assignment', None)      # To suppress pandas warnings.\n",
    "pd.set_option('display.precision', 3)               # To display values only upto three decimal places.\n",
    "pd.options.display.max_columns = 50                 # To display every column of the dataset in head()\n",
    "pd.options.display.float_format = '{:.2f}'.format\n",
    "\n",
    "from pandas_profiling import ProfileReport          # Import Pandas Profiling (To generate Univariate Analysis)\n",
    "\n",
    "import warnings\n",
    "warnings.filterwarnings('ignore')                   # To suppress all the warnings in the notebook.\n",
    "\n",
    "import matplotlib.pyplot as plt\n",
    "%matplotlib inline\n",
    "\n",
    "import seaborn as sns\n",
    "sns.set(style='whitegrid', font_scale=1.3, color_codes=True)      # To apply seaborn styles to the plots.\n",
    "\n",
    "import scipy as sp                                                  # Importing library for scientific calculations\n",
    "\n",
    "from datetime import datetime, timedelta"
   ]
  },
  {
   "cell_type": "markdown",
   "metadata": {
    "colab_type": "text",
    "id": "ys9Qb4OlpzvZ"
   },
   "source": [
    "---\n",
    "<a name = Section4></a>\n",
    "# **4. Data Acquisition & Description**\n",
    "---\n",
    "\n",
    "- The dataset is obtained directly from the Github source. This data is raw and needs to be processed in order to be usable for the Exploratory Data Analysis\n",
    "\n",
    "- Before going further let us look at the features of the data set:\n",
    "\n",
    "|Id|Feature|Description|\n",
    "|:--|:--|:--|\n",
    "|01| car           | Car brand name| \n",
    "|02| model         | Available car different Variants|  \n",
    "|03| year          | purchasing Year| \n",
    "|04| body          | Body type-Hatchback, Sedan, Crossover etc|   \n",
    "|05| mileage       | Odometer/ number of miles travelled by car|\n",
    "|06| engV          | Engine version/ Engine capacity|\n",
    "|07| engType       | Car Fuel type - Petrol, Diesel, gas etc|\n",
    "|08| drive         | Wheel Drive Front, back|\n",
    "|09| registration  | Check if the vechile is registered|\n",
    "|10| price         | Price of Car in $|\n"
   ]
  },
  {
   "cell_type": "code",
   "execution_count": 4,
   "metadata": {
    "colab": {
     "base_uri": "https://localhost:8080/",
     "height": 221
    },
    "colab_type": "code",
    "executionInfo": {
     "elapsed": 1606,
     "status": "ok",
     "timestamp": 1600335367520,
     "user": {
      "displayName": "Mukesh Kumar",
      "photoUrl": "",
      "userId": "01238672520445611335"
     },
     "user_tz": -330
    },
    "id": "aXPrewndpw1T",
    "outputId": "8966e366-b48b-4d8a-aa51-549a2e6e7308"
   },
   "outputs": [],
   "source": [
    "usedcar_df = pd.read_csv(filepath_or_buffer = 'https://raw.githubusercontent.com/insaid2018/Term-1/master/Data/Projects/car_sales.csv', encoding='cp1252')"
   ]
  },
  {
   "cell_type": "code",
   "execution_count": 5,
   "metadata": {},
   "outputs": [
    {
     "name": "stdout",
     "output_type": "stream",
     "text": [
      "DataFrame Shape: (9576, 10)\n"
     ]
    }
   ],
   "source": [
    "print('DataFrame Shape:', usedcar_df.shape)"
   ]
  },
  {
   "cell_type": "code",
   "execution_count": 6,
   "metadata": {},
   "outputs": [
    {
     "data": {
      "text/html": [
       "<div>\n",
       "<style scoped>\n",
       "    .dataframe tbody tr th:only-of-type {\n",
       "        vertical-align: middle;\n",
       "    }\n",
       "\n",
       "    .dataframe tbody tr th {\n",
       "        vertical-align: top;\n",
       "    }\n",
       "\n",
       "    .dataframe thead th {\n",
       "        text-align: right;\n",
       "    }\n",
       "</style>\n",
       "<table border=\"1\" class=\"dataframe\">\n",
       "  <thead>\n",
       "    <tr style=\"text-align: right;\">\n",
       "      <th></th>\n",
       "      <th>car</th>\n",
       "      <th>price</th>\n",
       "      <th>body</th>\n",
       "      <th>mileage</th>\n",
       "      <th>engV</th>\n",
       "      <th>engType</th>\n",
       "      <th>registration</th>\n",
       "      <th>year</th>\n",
       "      <th>model</th>\n",
       "      <th>drive</th>\n",
       "    </tr>\n",
       "  </thead>\n",
       "  <tbody>\n",
       "    <tr>\n",
       "      <th>0</th>\n",
       "      <td>Ford</td>\n",
       "      <td>15500.00</td>\n",
       "      <td>crossover</td>\n",
       "      <td>68</td>\n",
       "      <td>2.50</td>\n",
       "      <td>Gas</td>\n",
       "      <td>yes</td>\n",
       "      <td>2010</td>\n",
       "      <td>Kuga</td>\n",
       "      <td>full</td>\n",
       "    </tr>\n",
       "    <tr>\n",
       "      <th>1</th>\n",
       "      <td>Mercedes-Benz</td>\n",
       "      <td>20500.00</td>\n",
       "      <td>sedan</td>\n",
       "      <td>173</td>\n",
       "      <td>1.80</td>\n",
       "      <td>Gas</td>\n",
       "      <td>yes</td>\n",
       "      <td>2011</td>\n",
       "      <td>E-Class</td>\n",
       "      <td>rear</td>\n",
       "    </tr>\n",
       "    <tr>\n",
       "      <th>2</th>\n",
       "      <td>Mercedes-Benz</td>\n",
       "      <td>35000.00</td>\n",
       "      <td>other</td>\n",
       "      <td>135</td>\n",
       "      <td>5.50</td>\n",
       "      <td>Petrol</td>\n",
       "      <td>yes</td>\n",
       "      <td>2008</td>\n",
       "      <td>CL 550</td>\n",
       "      <td>rear</td>\n",
       "    </tr>\n",
       "    <tr>\n",
       "      <th>3</th>\n",
       "      <td>Mercedes-Benz</td>\n",
       "      <td>17800.00</td>\n",
       "      <td>van</td>\n",
       "      <td>162</td>\n",
       "      <td>1.80</td>\n",
       "      <td>Diesel</td>\n",
       "      <td>yes</td>\n",
       "      <td>2012</td>\n",
       "      <td>B 180</td>\n",
       "      <td>front</td>\n",
       "    </tr>\n",
       "    <tr>\n",
       "      <th>4</th>\n",
       "      <td>Mercedes-Benz</td>\n",
       "      <td>33000.00</td>\n",
       "      <td>vagon</td>\n",
       "      <td>91</td>\n",
       "      <td>nan</td>\n",
       "      <td>Other</td>\n",
       "      <td>yes</td>\n",
       "      <td>2013</td>\n",
       "      <td>E-Class</td>\n",
       "      <td>NaN</td>\n",
       "    </tr>\n",
       "  </tbody>\n",
       "</table>\n",
       "</div>"
      ],
      "text/plain": [
       "             car    price       body  mileage  engV engType registration  \\\n",
       "0           Ford 15500.00  crossover       68  2.50     Gas          yes   \n",
       "1  Mercedes-Benz 20500.00      sedan      173  1.80     Gas          yes   \n",
       "2  Mercedes-Benz 35000.00      other      135  5.50  Petrol          yes   \n",
       "3  Mercedes-Benz 17800.00        van      162  1.80  Diesel          yes   \n",
       "4  Mercedes-Benz 33000.00      vagon       91   nan   Other          yes   \n",
       "\n",
       "   year    model  drive  \n",
       "0  2010     Kuga   full  \n",
       "1  2011  E-Class   rear  \n",
       "2  2008   CL 550   rear  \n",
       "3  2012    B 180  front  \n",
       "4  2013  E-Class    NaN  "
      ]
     },
     "execution_count": 6,
     "metadata": {},
     "output_type": "execute_result"
    }
   ],
   "source": [
    "usedcar_df.head()"
   ]
  },
  {
   "cell_type": "code",
   "execution_count": 7,
   "metadata": {},
   "outputs": [
    {
     "data": {
      "text/html": [
       "<div>\n",
       "<style scoped>\n",
       "    .dataframe tbody tr th:only-of-type {\n",
       "        vertical-align: middle;\n",
       "    }\n",
       "\n",
       "    .dataframe tbody tr th {\n",
       "        vertical-align: top;\n",
       "    }\n",
       "\n",
       "    .dataframe thead th {\n",
       "        text-align: right;\n",
       "    }\n",
       "</style>\n",
       "<table border=\"1\" class=\"dataframe\">\n",
       "  <thead>\n",
       "    <tr style=\"text-align: right;\">\n",
       "      <th></th>\n",
       "      <th>car</th>\n",
       "      <th>price</th>\n",
       "      <th>body</th>\n",
       "      <th>mileage</th>\n",
       "      <th>engV</th>\n",
       "      <th>engType</th>\n",
       "      <th>registration</th>\n",
       "      <th>year</th>\n",
       "      <th>model</th>\n",
       "      <th>drive</th>\n",
       "    </tr>\n",
       "  </thead>\n",
       "  <tbody>\n",
       "    <tr>\n",
       "      <th>9571</th>\n",
       "      <td>Hyundai</td>\n",
       "      <td>14500.00</td>\n",
       "      <td>crossover</td>\n",
       "      <td>140</td>\n",
       "      <td>2.00</td>\n",
       "      <td>Gas</td>\n",
       "      <td>yes</td>\n",
       "      <td>2011</td>\n",
       "      <td>Tucson</td>\n",
       "      <td>front</td>\n",
       "    </tr>\n",
       "    <tr>\n",
       "      <th>9572</th>\n",
       "      <td>Volkswagen</td>\n",
       "      <td>2200.00</td>\n",
       "      <td>vagon</td>\n",
       "      <td>150</td>\n",
       "      <td>1.60</td>\n",
       "      <td>Petrol</td>\n",
       "      <td>yes</td>\n",
       "      <td>1986</td>\n",
       "      <td>Passat B2</td>\n",
       "      <td>front</td>\n",
       "    </tr>\n",
       "    <tr>\n",
       "      <th>9573</th>\n",
       "      <td>Mercedes-Benz</td>\n",
       "      <td>18500.00</td>\n",
       "      <td>crossover</td>\n",
       "      <td>180</td>\n",
       "      <td>3.50</td>\n",
       "      <td>Petrol</td>\n",
       "      <td>yes</td>\n",
       "      <td>2008</td>\n",
       "      <td>ML 350</td>\n",
       "      <td>full</td>\n",
       "    </tr>\n",
       "    <tr>\n",
       "      <th>9574</th>\n",
       "      <td>Lexus</td>\n",
       "      <td>16999.00</td>\n",
       "      <td>sedan</td>\n",
       "      <td>150</td>\n",
       "      <td>3.50</td>\n",
       "      <td>Gas</td>\n",
       "      <td>yes</td>\n",
       "      <td>2008</td>\n",
       "      <td>ES 350</td>\n",
       "      <td>front</td>\n",
       "    </tr>\n",
       "    <tr>\n",
       "      <th>9575</th>\n",
       "      <td>Audi</td>\n",
       "      <td>22500.00</td>\n",
       "      <td>other</td>\n",
       "      <td>71</td>\n",
       "      <td>3.60</td>\n",
       "      <td>Petrol</td>\n",
       "      <td>yes</td>\n",
       "      <td>2007</td>\n",
       "      <td>Q7</td>\n",
       "      <td>full</td>\n",
       "    </tr>\n",
       "  </tbody>\n",
       "</table>\n",
       "</div>"
      ],
      "text/plain": [
       "                car    price       body  mileage  engV engType registration  \\\n",
       "9571        Hyundai 14500.00  crossover      140  2.00     Gas          yes   \n",
       "9572     Volkswagen  2200.00      vagon      150  1.60  Petrol          yes   \n",
       "9573  Mercedes-Benz 18500.00  crossover      180  3.50  Petrol          yes   \n",
       "9574          Lexus 16999.00      sedan      150  3.50     Gas          yes   \n",
       "9575           Audi 22500.00      other       71  3.60  Petrol          yes   \n",
       "\n",
       "      year      model  drive  \n",
       "9571  2011     Tucson  front  \n",
       "9572  1986  Passat B2  front  \n",
       "9573  2008     ML 350   full  \n",
       "9574  2008     ES 350  front  \n",
       "9575  2007         Q7   full  "
      ]
     },
     "execution_count": 7,
     "metadata": {},
     "output_type": "execute_result"
    }
   ],
   "source": [
    "usedcar_df.tail()"
   ]
  },
  {
   "cell_type": "markdown",
   "metadata": {},
   "source": [
    "By looking at the dataset, we see that the data has all the required information for a customer to choose the car of his/her choice.\n",
    "\n",
    "Few additional information could have added more points for decision making for the customer, viz.,\n",
    "- has the car met with an accidident during the run time\n",
    "- information of number of ownership transfers\n",
    "- Car paint color"
   ]
  },
  {
   "cell_type": "markdown",
   "metadata": {
    "colab_type": "text",
    "id": "lM-hljKpqXsp"
   },
   "source": [
    "### **Data Information**"
   ]
  },
  {
   "cell_type": "code",
   "execution_count": 8,
   "metadata": {},
   "outputs": [
    {
     "name": "stdout",
     "output_type": "stream",
     "text": [
      "<class 'pandas.core.frame.DataFrame'>\n",
      "RangeIndex: 9576 entries, 0 to 9575\n",
      "Data columns (total 10 columns):\n",
      " #   Column        Non-Null Count  Dtype  \n",
      "---  ------        --------------  -----  \n",
      " 0   car           9576 non-null   object \n",
      " 1   price         9576 non-null   float64\n",
      " 2   body          9576 non-null   object \n",
      " 3   mileage       9576 non-null   int64  \n",
      " 4   engV          9142 non-null   float64\n",
      " 5   engType       9576 non-null   object \n",
      " 6   registration  9576 non-null   object \n",
      " 7   year          9576 non-null   int64  \n",
      " 8   model         9576 non-null   object \n",
      " 9   drive         9065 non-null   object \n",
      "dtypes: float64(2), int64(2), object(6)\n",
      "memory usage: 748.2+ KB\n"
     ]
    }
   ],
   "source": [
    "usedcar_df.info()"
   ]
  },
  {
   "cell_type": "code",
   "execution_count": 9,
   "metadata": {},
   "outputs": [
    {
     "data": {
      "text/plain": [
       "car               0\n",
       "price             0\n",
       "body              0\n",
       "mileage           0\n",
       "engV            434\n",
       "engType           0\n",
       "registration      0\n",
       "year              0\n",
       "model             0\n",
       "drive           511\n",
       "dtype: int64"
      ]
     },
     "execution_count": 9,
     "metadata": {},
     "output_type": "execute_result"
    }
   ],
   "source": [
    "usedcar_df.isnull().sum()"
   ]
  },
  {
   "cell_type": "markdown",
   "metadata": {},
   "source": [
    "From the above info, there are missing values in engV (volume of the engine) and drive type. \n",
    "- engV column has 434 null values (approx 4.5%)\n",
    "- drive column has 511 null values (approx 5.3%)\n",
    "\n",
    " There is a significant count of missing data which will be handled in Data Pre processing"
   ]
  },
  {
   "cell_type": "markdown",
   "metadata": {
    "colab_type": "text",
    "id": "FfkdFrL_qMPn"
   },
   "source": [
    "### **Data Description**\n",
    "\n",
    "- To get some quick description out of the data, describe method defined in pandas library is used."
   ]
  },
  {
   "cell_type": "code",
   "execution_count": 10,
   "metadata": {
    "colab": {},
    "colab_type": "code",
    "id": "cLs4jsSuqJjC"
   },
   "outputs": [
    {
     "data": {
      "text/html": [
       "<div>\n",
       "<style scoped>\n",
       "    .dataframe tbody tr th:only-of-type {\n",
       "        vertical-align: middle;\n",
       "    }\n",
       "\n",
       "    .dataframe tbody tr th {\n",
       "        vertical-align: top;\n",
       "    }\n",
       "\n",
       "    .dataframe thead th {\n",
       "        text-align: right;\n",
       "    }\n",
       "</style>\n",
       "<table border=\"1\" class=\"dataframe\">\n",
       "  <thead>\n",
       "    <tr style=\"text-align: right;\">\n",
       "      <th></th>\n",
       "      <th>car</th>\n",
       "      <th>price</th>\n",
       "      <th>body</th>\n",
       "      <th>mileage</th>\n",
       "      <th>engV</th>\n",
       "      <th>engType</th>\n",
       "      <th>registration</th>\n",
       "      <th>year</th>\n",
       "      <th>model</th>\n",
       "      <th>drive</th>\n",
       "    </tr>\n",
       "  </thead>\n",
       "  <tbody>\n",
       "    <tr>\n",
       "      <th>count</th>\n",
       "      <td>9576</td>\n",
       "      <td>9576.00</td>\n",
       "      <td>9576</td>\n",
       "      <td>9576.00</td>\n",
       "      <td>9142.00</td>\n",
       "      <td>9576</td>\n",
       "      <td>9576</td>\n",
       "      <td>9576.00</td>\n",
       "      <td>9576</td>\n",
       "      <td>9065</td>\n",
       "    </tr>\n",
       "    <tr>\n",
       "      <th>unique</th>\n",
       "      <td>87</td>\n",
       "      <td>nan</td>\n",
       "      <td>6</td>\n",
       "      <td>nan</td>\n",
       "      <td>nan</td>\n",
       "      <td>4</td>\n",
       "      <td>2</td>\n",
       "      <td>nan</td>\n",
       "      <td>888</td>\n",
       "      <td>3</td>\n",
       "    </tr>\n",
       "    <tr>\n",
       "      <th>top</th>\n",
       "      <td>Volkswagen</td>\n",
       "      <td>nan</td>\n",
       "      <td>sedan</td>\n",
       "      <td>nan</td>\n",
       "      <td>nan</td>\n",
       "      <td>Petrol</td>\n",
       "      <td>yes</td>\n",
       "      <td>nan</td>\n",
       "      <td>E-Class</td>\n",
       "      <td>front</td>\n",
       "    </tr>\n",
       "    <tr>\n",
       "      <th>freq</th>\n",
       "      <td>936</td>\n",
       "      <td>nan</td>\n",
       "      <td>3646</td>\n",
       "      <td>nan</td>\n",
       "      <td>nan</td>\n",
       "      <td>4379</td>\n",
       "      <td>9015</td>\n",
       "      <td>nan</td>\n",
       "      <td>199</td>\n",
       "      <td>5188</td>\n",
       "    </tr>\n",
       "    <tr>\n",
       "      <th>mean</th>\n",
       "      <td>NaN</td>\n",
       "      <td>15633.32</td>\n",
       "      <td>NaN</td>\n",
       "      <td>138.86</td>\n",
       "      <td>2.65</td>\n",
       "      <td>NaN</td>\n",
       "      <td>NaN</td>\n",
       "      <td>2006.61</td>\n",
       "      <td>NaN</td>\n",
       "      <td>NaN</td>\n",
       "    </tr>\n",
       "    <tr>\n",
       "      <th>std</th>\n",
       "      <td>NaN</td>\n",
       "      <td>24106.52</td>\n",
       "      <td>NaN</td>\n",
       "      <td>98.63</td>\n",
       "      <td>5.93</td>\n",
       "      <td>NaN</td>\n",
       "      <td>NaN</td>\n",
       "      <td>7.07</td>\n",
       "      <td>NaN</td>\n",
       "      <td>NaN</td>\n",
       "    </tr>\n",
       "    <tr>\n",
       "      <th>min</th>\n",
       "      <td>NaN</td>\n",
       "      <td>0.00</td>\n",
       "      <td>NaN</td>\n",
       "      <td>0.00</td>\n",
       "      <td>0.10</td>\n",
       "      <td>NaN</td>\n",
       "      <td>NaN</td>\n",
       "      <td>1953.00</td>\n",
       "      <td>NaN</td>\n",
       "      <td>NaN</td>\n",
       "    </tr>\n",
       "    <tr>\n",
       "      <th>25%</th>\n",
       "      <td>NaN</td>\n",
       "      <td>4999.00</td>\n",
       "      <td>NaN</td>\n",
       "      <td>70.00</td>\n",
       "      <td>1.60</td>\n",
       "      <td>NaN</td>\n",
       "      <td>NaN</td>\n",
       "      <td>2004.00</td>\n",
       "      <td>NaN</td>\n",
       "      <td>NaN</td>\n",
       "    </tr>\n",
       "    <tr>\n",
       "      <th>50%</th>\n",
       "      <td>NaN</td>\n",
       "      <td>9200.00</td>\n",
       "      <td>NaN</td>\n",
       "      <td>128.00</td>\n",
       "      <td>2.00</td>\n",
       "      <td>NaN</td>\n",
       "      <td>NaN</td>\n",
       "      <td>2008.00</td>\n",
       "      <td>NaN</td>\n",
       "      <td>NaN</td>\n",
       "    </tr>\n",
       "    <tr>\n",
       "      <th>75%</th>\n",
       "      <td>NaN</td>\n",
       "      <td>16700.00</td>\n",
       "      <td>NaN</td>\n",
       "      <td>194.00</td>\n",
       "      <td>2.50</td>\n",
       "      <td>NaN</td>\n",
       "      <td>NaN</td>\n",
       "      <td>2012.00</td>\n",
       "      <td>NaN</td>\n",
       "      <td>NaN</td>\n",
       "    </tr>\n",
       "    <tr>\n",
       "      <th>max</th>\n",
       "      <td>NaN</td>\n",
       "      <td>547800.00</td>\n",
       "      <td>NaN</td>\n",
       "      <td>999.00</td>\n",
       "      <td>99.99</td>\n",
       "      <td>NaN</td>\n",
       "      <td>NaN</td>\n",
       "      <td>2016.00</td>\n",
       "      <td>NaN</td>\n",
       "      <td>NaN</td>\n",
       "    </tr>\n",
       "  </tbody>\n",
       "</table>\n",
       "</div>"
      ],
      "text/plain": [
       "               car     price   body  mileage    engV engType registration  \\\n",
       "count         9576   9576.00   9576  9576.00 9142.00    9576         9576   \n",
       "unique          87       nan      6      nan     nan       4            2   \n",
       "top     Volkswagen       nan  sedan      nan     nan  Petrol          yes   \n",
       "freq           936       nan   3646      nan     nan    4379         9015   \n",
       "mean           NaN  15633.32    NaN   138.86    2.65     NaN          NaN   \n",
       "std            NaN  24106.52    NaN    98.63    5.93     NaN          NaN   \n",
       "min            NaN      0.00    NaN     0.00    0.10     NaN          NaN   \n",
       "25%            NaN   4999.00    NaN    70.00    1.60     NaN          NaN   \n",
       "50%            NaN   9200.00    NaN   128.00    2.00     NaN          NaN   \n",
       "75%            NaN  16700.00    NaN   194.00    2.50     NaN          NaN   \n",
       "max            NaN 547800.00    NaN   999.00   99.99     NaN          NaN   \n",
       "\n",
       "          year    model  drive  \n",
       "count  9576.00     9576   9065  \n",
       "unique     nan      888      3  \n",
       "top        nan  E-Class  front  \n",
       "freq       nan      199   5188  \n",
       "mean   2006.61      NaN    NaN  \n",
       "std       7.07      NaN    NaN  \n",
       "min    1953.00      NaN    NaN  \n",
       "25%    2004.00      NaN    NaN  \n",
       "50%    2008.00      NaN    NaN  \n",
       "75%    2012.00      NaN    NaN  \n",
       "max    2016.00      NaN    NaN  "
      ]
     },
     "execution_count": 10,
     "metadata": {},
     "output_type": "execute_result"
    }
   ],
   "source": [
    "usedcar_df.describe(include = 'all')"
   ]
  },
  {
   "cell_type": "markdown",
   "metadata": {},
   "source": [
    "\n",
    "1. The price of the car cannot be Zero, and hence need to be considered as missing value.\n",
    "2. The least mileage is shown as zero. This needs further validation.\n",
    "3. The above stats show that the engine Volume has some erronous values which shows 99.99 ltrs.\n",
    "    The biggest car engine is of 8.4 ltrs (source - Google) with a production car max engine cc ranging from 6 to 7."
   ]
  },
  {
   "cell_type": "code",
   "execution_count": 11,
   "metadata": {},
   "outputs": [
    {
     "data": {
      "text/html": [
       "<div>\n",
       "<style scoped>\n",
       "    .dataframe tbody tr th:only-of-type {\n",
       "        vertical-align: middle;\n",
       "    }\n",
       "\n",
       "    .dataframe tbody tr th {\n",
       "        vertical-align: top;\n",
       "    }\n",
       "\n",
       "    .dataframe thead th {\n",
       "        text-align: right;\n",
       "    }\n",
       "</style>\n",
       "<table border=\"1\" class=\"dataframe\">\n",
       "  <thead>\n",
       "    <tr style=\"text-align: right;\">\n",
       "      <th></th>\n",
       "      <th>car</th>\n",
       "      <th>price</th>\n",
       "      <th>body</th>\n",
       "      <th>mileage</th>\n",
       "      <th>engV</th>\n",
       "      <th>engType</th>\n",
       "      <th>registration</th>\n",
       "      <th>year</th>\n",
       "      <th>model</th>\n",
       "      <th>drive</th>\n",
       "    </tr>\n",
       "  </thead>\n",
       "  <tbody>\n",
       "    <tr>\n",
       "      <th>10</th>\n",
       "      <td>Nissan</td>\n",
       "      <td>20447.15</td>\n",
       "      <td>crossover</td>\n",
       "      <td>0</td>\n",
       "      <td>1.20</td>\n",
       "      <td>Petrol</td>\n",
       "      <td>yes</td>\n",
       "      <td>2016</td>\n",
       "      <td>Qashqai</td>\n",
       "      <td>front</td>\n",
       "    </tr>\n",
       "    <tr>\n",
       "      <th>17</th>\n",
       "      <td>Mercedes-Benz</td>\n",
       "      <td>99999.00</td>\n",
       "      <td>crossover</td>\n",
       "      <td>0</td>\n",
       "      <td>3.00</td>\n",
       "      <td>Petrol</td>\n",
       "      <td>yes</td>\n",
       "      <td>2016</td>\n",
       "      <td>GLE-Class</td>\n",
       "      <td>full</td>\n",
       "    </tr>\n",
       "    <tr>\n",
       "      <th>20</th>\n",
       "      <td>Land Rover</td>\n",
       "      <td>0.00</td>\n",
       "      <td>crossover</td>\n",
       "      <td>0</td>\n",
       "      <td>4.40</td>\n",
       "      <td>Diesel</td>\n",
       "      <td>yes</td>\n",
       "      <td>2016</td>\n",
       "      <td>Range Rover</td>\n",
       "      <td>full</td>\n",
       "    </tr>\n",
       "    <tr>\n",
       "      <th>21</th>\n",
       "      <td>Nissan</td>\n",
       "      <td>26033.55</td>\n",
       "      <td>crossover</td>\n",
       "      <td>0</td>\n",
       "      <td>1.60</td>\n",
       "      <td>Diesel</td>\n",
       "      <td>yes</td>\n",
       "      <td>2016</td>\n",
       "      <td>X-Trail</td>\n",
       "      <td>full</td>\n",
       "    </tr>\n",
       "    <tr>\n",
       "      <th>24</th>\n",
       "      <td>BMW</td>\n",
       "      <td>65099.00</td>\n",
       "      <td>crossover</td>\n",
       "      <td>0</td>\n",
       "      <td>2.00</td>\n",
       "      <td>Diesel</td>\n",
       "      <td>yes</td>\n",
       "      <td>2016</td>\n",
       "      <td>X5</td>\n",
       "      <td>full</td>\n",
       "    </tr>\n",
       "    <tr>\n",
       "      <th>...</th>\n",
       "      <td>...</td>\n",
       "      <td>...</td>\n",
       "      <td>...</td>\n",
       "      <td>...</td>\n",
       "      <td>...</td>\n",
       "      <td>...</td>\n",
       "      <td>...</td>\n",
       "      <td>...</td>\n",
       "      <td>...</td>\n",
       "      <td>...</td>\n",
       "    </tr>\n",
       "    <tr>\n",
       "      <th>9234</th>\n",
       "      <td>Hyundai</td>\n",
       "      <td>12800.77</td>\n",
       "      <td>hatch</td>\n",
       "      <td>0</td>\n",
       "      <td>1.40</td>\n",
       "      <td>Petrol</td>\n",
       "      <td>yes</td>\n",
       "      <td>2016</td>\n",
       "      <td>Solaris</td>\n",
       "      <td>front</td>\n",
       "    </tr>\n",
       "    <tr>\n",
       "      <th>9268</th>\n",
       "      <td>Subaru</td>\n",
       "      <td>37500.00</td>\n",
       "      <td>crossover</td>\n",
       "      <td>0</td>\n",
       "      <td>2.00</td>\n",
       "      <td>Diesel</td>\n",
       "      <td>yes</td>\n",
       "      <td>2016</td>\n",
       "      <td>Forester</td>\n",
       "      <td>full</td>\n",
       "    </tr>\n",
       "    <tr>\n",
       "      <th>9382</th>\n",
       "      <td>Suzuki</td>\n",
       "      <td>15486.90</td>\n",
       "      <td>hatch</td>\n",
       "      <td>0</td>\n",
       "      <td>1.20</td>\n",
       "      <td>Petrol</td>\n",
       "      <td>yes</td>\n",
       "      <td>2016</td>\n",
       "      <td>Swift</td>\n",
       "      <td>front</td>\n",
       "    </tr>\n",
       "    <tr>\n",
       "      <th>9483</th>\n",
       "      <td>Opel</td>\n",
       "      <td>20120.00</td>\n",
       "      <td>sedan</td>\n",
       "      <td>0</td>\n",
       "      <td>1.60</td>\n",
       "      <td>Diesel</td>\n",
       "      <td>yes</td>\n",
       "      <td>2016</td>\n",
       "      <td>Astra J</td>\n",
       "      <td>front</td>\n",
       "    </tr>\n",
       "    <tr>\n",
       "      <th>9484</th>\n",
       "      <td>Nissan</td>\n",
       "      <td>29077.95</td>\n",
       "      <td>crossover</td>\n",
       "      <td>0</td>\n",
       "      <td>1.60</td>\n",
       "      <td>Diesel</td>\n",
       "      <td>yes</td>\n",
       "      <td>2016</td>\n",
       "      <td>X-Trail</td>\n",
       "      <td>front</td>\n",
       "    </tr>\n",
       "  </tbody>\n",
       "</table>\n",
       "<p>348 rows × 10 columns</p>\n",
       "</div>"
      ],
      "text/plain": [
       "                car    price       body  mileage  engV engType registration  \\\n",
       "10           Nissan 20447.15  crossover        0  1.20  Petrol          yes   \n",
       "17    Mercedes-Benz 99999.00  crossover        0  3.00  Petrol          yes   \n",
       "20       Land Rover     0.00  crossover        0  4.40  Diesel          yes   \n",
       "21           Nissan 26033.55  crossover        0  1.60  Diesel          yes   \n",
       "24              BMW 65099.00  crossover        0  2.00  Diesel          yes   \n",
       "...             ...      ...        ...      ...   ...     ...          ...   \n",
       "9234        Hyundai 12800.77      hatch        0  1.40  Petrol          yes   \n",
       "9268         Subaru 37500.00  crossover        0  2.00  Diesel          yes   \n",
       "9382         Suzuki 15486.90      hatch        0  1.20  Petrol          yes   \n",
       "9483           Opel 20120.00      sedan        0  1.60  Diesel          yes   \n",
       "9484         Nissan 29077.95  crossover        0  1.60  Diesel          yes   \n",
       "\n",
       "      year        model  drive  \n",
       "10    2016      Qashqai  front  \n",
       "17    2016    GLE-Class   full  \n",
       "20    2016  Range Rover   full  \n",
       "21    2016      X-Trail   full  \n",
       "24    2016           X5   full  \n",
       "...    ...          ...    ...  \n",
       "9234  2016      Solaris  front  \n",
       "9268  2016     Forester   full  \n",
       "9382  2016        Swift  front  \n",
       "9483  2016      Astra J  front  \n",
       "9484  2016      X-Trail  front  \n",
       "\n",
       "[348 rows x 10 columns]"
      ]
     },
     "execution_count": 11,
     "metadata": {},
     "output_type": "execute_result"
    }
   ],
   "source": [
    "# Lets have a look at the data with mileage Zero\n",
    "\n",
    "usedcar_df[usedcar_df['mileage']==0]"
   ]
  },
  {
   "cell_type": "markdown",
   "metadata": {},
   "source": [
    "- The year of registration is 2016 for the cars with Mileage zero. We can consider that these 384 data points are of new cars."
   ]
  },
  {
   "cell_type": "code",
   "execution_count": 12,
   "metadata": {},
   "outputs": [
    {
     "data": {
      "text/plain": [
       "267"
      ]
     },
     "execution_count": 12,
     "metadata": {},
     "output_type": "execute_result"
    }
   ],
   "source": [
    "# Lets check the number of values with price Zero\n",
    "\n",
    "price_zero = usedcar_df[usedcar_df['price']==0]\n",
    "len(price_zero)"
   ]
  },
  {
   "cell_type": "markdown",
   "metadata": {},
   "source": [
    "- 267 values have zero price. We will look at how to handle this missing data in Data Processing stage"
   ]
  },
  {
   "cell_type": "code",
   "execution_count": 13,
   "metadata": {},
   "outputs": [
    {
     "data": {
      "text/html": [
       "<div>\n",
       "<style scoped>\n",
       "    .dataframe tbody tr th:only-of-type {\n",
       "        vertical-align: middle;\n",
       "    }\n",
       "\n",
       "    .dataframe tbody tr th {\n",
       "        vertical-align: top;\n",
       "    }\n",
       "\n",
       "    .dataframe thead th {\n",
       "        text-align: right;\n",
       "    }\n",
       "</style>\n",
       "<table border=\"1\" class=\"dataframe\">\n",
       "  <thead>\n",
       "    <tr style=\"text-align: right;\">\n",
       "      <th></th>\n",
       "      <th>car</th>\n",
       "      <th>price</th>\n",
       "      <th>body</th>\n",
       "      <th>mileage</th>\n",
       "      <th>engV</th>\n",
       "      <th>engType</th>\n",
       "      <th>registration</th>\n",
       "      <th>year</th>\n",
       "      <th>model</th>\n",
       "      <th>drive</th>\n",
       "    </tr>\n",
       "  </thead>\n",
       "  <tbody>\n",
       "    <tr>\n",
       "      <th>394</th>\n",
       "      <td>Mercedes-Benz</td>\n",
       "      <td>41900.00</td>\n",
       "      <td>sedan</td>\n",
       "      <td>95</td>\n",
       "      <td>6.20</td>\n",
       "      <td>Petrol</td>\n",
       "      <td>yes</td>\n",
       "      <td>2011</td>\n",
       "      <td>S 500</td>\n",
       "      <td>NaN</td>\n",
       "    </tr>\n",
       "    <tr>\n",
       "      <th>510</th>\n",
       "      <td>Bentley</td>\n",
       "      <td>85000.00</td>\n",
       "      <td>other</td>\n",
       "      <td>20</td>\n",
       "      <td>6.00</td>\n",
       "      <td>Petrol</td>\n",
       "      <td>yes</td>\n",
       "      <td>2008</td>\n",
       "      <td>Continental</td>\n",
       "      <td>full</td>\n",
       "    </tr>\n",
       "    <tr>\n",
       "      <th>571</th>\n",
       "      <td>Bentley</td>\n",
       "      <td>55555.00</td>\n",
       "      <td>other</td>\n",
       "      <td>45</td>\n",
       "      <td>6.00</td>\n",
       "      <td>Petrol</td>\n",
       "      <td>yes</td>\n",
       "      <td>2005</td>\n",
       "      <td>Continental</td>\n",
       "      <td>full</td>\n",
       "    </tr>\n",
       "    <tr>\n",
       "      <th>637</th>\n",
       "      <td>Bentley</td>\n",
       "      <td>222222.00</td>\n",
       "      <td>other</td>\n",
       "      <td>0</td>\n",
       "      <td>6.00</td>\n",
       "      <td>Petrol</td>\n",
       "      <td>yes</td>\n",
       "      <td>2015</td>\n",
       "      <td>Continental</td>\n",
       "      <td>full</td>\n",
       "    </tr>\n",
       "    <tr>\n",
       "      <th>646</th>\n",
       "      <td>Mercedes-Benz</td>\n",
       "      <td>39900.00</td>\n",
       "      <td>sedan</td>\n",
       "      <td>29</td>\n",
       "      <td>6.30</td>\n",
       "      <td>Petrol</td>\n",
       "      <td>yes</td>\n",
       "      <td>2007</td>\n",
       "      <td>S 63 AMG</td>\n",
       "      <td>rear</td>\n",
       "    </tr>\n",
       "    <tr>\n",
       "      <th>...</th>\n",
       "      <td>...</td>\n",
       "      <td>...</td>\n",
       "      <td>...</td>\n",
       "      <td>...</td>\n",
       "      <td>...</td>\n",
       "      <td>...</td>\n",
       "      <td>...</td>\n",
       "      <td>...</td>\n",
       "      <td>...</td>\n",
       "      <td>...</td>\n",
       "    </tr>\n",
       "    <tr>\n",
       "      <th>8112</th>\n",
       "      <td>Cadillac</td>\n",
       "      <td>145000.00</td>\n",
       "      <td>crossover</td>\n",
       "      <td>1</td>\n",
       "      <td>6.20</td>\n",
       "      <td>Petrol</td>\n",
       "      <td>yes</td>\n",
       "      <td>2016</td>\n",
       "      <td>Escalade</td>\n",
       "      <td>full</td>\n",
       "    </tr>\n",
       "    <tr>\n",
       "      <th>8257</th>\n",
       "      <td>Bentley</td>\n",
       "      <td>53500.00</td>\n",
       "      <td>sedan</td>\n",
       "      <td>108</td>\n",
       "      <td>6.00</td>\n",
       "      <td>Petrol</td>\n",
       "      <td>yes</td>\n",
       "      <td>2008</td>\n",
       "      <td>Continental</td>\n",
       "      <td>full</td>\n",
       "    </tr>\n",
       "    <tr>\n",
       "      <th>8751</th>\n",
       "      <td>Aston Martin</td>\n",
       "      <td>125000.00</td>\n",
       "      <td>sedan</td>\n",
       "      <td>12</td>\n",
       "      <td>6.00</td>\n",
       "      <td>Petrol</td>\n",
       "      <td>yes</td>\n",
       "      <td>2011</td>\n",
       "      <td>Rapide</td>\n",
       "      <td>rear</td>\n",
       "    </tr>\n",
       "    <tr>\n",
       "      <th>9113</th>\n",
       "      <td>BMW</td>\n",
       "      <td>20000.00</td>\n",
       "      <td>sedan</td>\n",
       "      <td>230</td>\n",
       "      <td>6.00</td>\n",
       "      <td>Petrol</td>\n",
       "      <td>yes</td>\n",
       "      <td>2008</td>\n",
       "      <td>760</td>\n",
       "      <td>rear</td>\n",
       "    </tr>\n",
       "    <tr>\n",
       "      <th>9241</th>\n",
       "      <td>Mercedes-Benz</td>\n",
       "      <td>9500.00</td>\n",
       "      <td>sedan</td>\n",
       "      <td>246</td>\n",
       "      <td>6.00</td>\n",
       "      <td>Petrol</td>\n",
       "      <td>yes</td>\n",
       "      <td>1997</td>\n",
       "      <td>S 600</td>\n",
       "      <td>NaN</td>\n",
       "    </tr>\n",
       "  </tbody>\n",
       "</table>\n",
       "<p>64 rows × 10 columns</p>\n",
       "</div>"
      ],
      "text/plain": [
       "                car     price       body  mileage  engV engType registration  \\\n",
       "394   Mercedes-Benz  41900.00      sedan       95  6.20  Petrol          yes   \n",
       "510         Bentley  85000.00      other       20  6.00  Petrol          yes   \n",
       "571         Bentley  55555.00      other       45  6.00  Petrol          yes   \n",
       "637         Bentley 222222.00      other        0  6.00  Petrol          yes   \n",
       "646   Mercedes-Benz  39900.00      sedan       29  6.30  Petrol          yes   \n",
       "...             ...       ...        ...      ...   ...     ...          ...   \n",
       "8112       Cadillac 145000.00  crossover        1  6.20  Petrol          yes   \n",
       "8257        Bentley  53500.00      sedan      108  6.00  Petrol          yes   \n",
       "8751   Aston Martin 125000.00      sedan       12  6.00  Petrol          yes   \n",
       "9113            BMW  20000.00      sedan      230  6.00  Petrol          yes   \n",
       "9241  Mercedes-Benz   9500.00      sedan      246  6.00  Petrol          yes   \n",
       "\n",
       "      year        model drive  \n",
       "394   2011        S 500   NaN  \n",
       "510   2008  Continental  full  \n",
       "571   2005  Continental  full  \n",
       "637   2015  Continental  full  \n",
       "646   2007     S 63 AMG  rear  \n",
       "...    ...          ...   ...  \n",
       "8112  2016     Escalade  full  \n",
       "8257  2008  Continental  full  \n",
       "8751  2011       Rapide  rear  \n",
       "9113  2008          760  rear  \n",
       "9241  1997        S 600   NaN  \n",
       "\n",
       "[64 rows x 10 columns]"
      ]
     },
     "execution_count": 13,
     "metadata": {},
     "output_type": "execute_result"
    }
   ],
   "source": [
    "# Lets check for the number of data points beyond between 6 to 6.5 lts\n",
    "\n",
    "usedcar_df[usedcar_df['engV'].between (6,6.5)]"
   ]
  },
  {
   "cell_type": "code",
   "execution_count": 14,
   "metadata": {},
   "outputs": [
    {
     "data": {
      "text/html": [
       "<div>\n",
       "<style scoped>\n",
       "    .dataframe tbody tr th:only-of-type {\n",
       "        vertical-align: middle;\n",
       "    }\n",
       "\n",
       "    .dataframe tbody tr th {\n",
       "        vertical-align: top;\n",
       "    }\n",
       "\n",
       "    .dataframe thead th {\n",
       "        text-align: right;\n",
       "    }\n",
       "</style>\n",
       "<table border=\"1\" class=\"dataframe\">\n",
       "  <thead>\n",
       "    <tr style=\"text-align: right;\">\n",
       "      <th></th>\n",
       "      <th>car</th>\n",
       "      <th>price</th>\n",
       "      <th>body</th>\n",
       "      <th>mileage</th>\n",
       "      <th>engV</th>\n",
       "      <th>engType</th>\n",
       "      <th>registration</th>\n",
       "      <th>year</th>\n",
       "      <th>model</th>\n",
       "      <th>drive</th>\n",
       "    </tr>\n",
       "  </thead>\n",
       "  <tbody>\n",
       "    <tr>\n",
       "      <th>1310</th>\n",
       "      <td>Chrysler</td>\n",
       "      <td>13700.00</td>\n",
       "      <td>other</td>\n",
       "      <td>130</td>\n",
       "      <td>7.00</td>\n",
       "      <td>Petrol</td>\n",
       "      <td>yes</td>\n",
       "      <td>2005</td>\n",
       "      <td>300 C</td>\n",
       "      <td>rear</td>\n",
       "    </tr>\n",
       "    <tr>\n",
       "      <th>1653</th>\n",
       "      <td>Mercedes-Benz</td>\n",
       "      <td>35500.00</td>\n",
       "      <td>sedan</td>\n",
       "      <td>160</td>\n",
       "      <td>6.50</td>\n",
       "      <td>Petrol</td>\n",
       "      <td>yes</td>\n",
       "      <td>2008</td>\n",
       "      <td>S 65 AMG</td>\n",
       "      <td>rear</td>\n",
       "    </tr>\n",
       "    <tr>\n",
       "      <th>1928</th>\n",
       "      <td>Daewoo</td>\n",
       "      <td>4100.00</td>\n",
       "      <td>other</td>\n",
       "      <td>9</td>\n",
       "      <td>8.00</td>\n",
       "      <td>Petrol</td>\n",
       "      <td>yes</td>\n",
       "      <td>2008</td>\n",
       "      <td>Matiz</td>\n",
       "      <td>front</td>\n",
       "    </tr>\n",
       "    <tr>\n",
       "      <th>3551</th>\n",
       "      <td>ZAZ</td>\n",
       "      <td>0.00</td>\n",
       "      <td>hatch</td>\n",
       "      <td>130</td>\n",
       "      <td>7.00</td>\n",
       "      <td>Gas</td>\n",
       "      <td>yes</td>\n",
       "      <td>2005</td>\n",
       "      <td>1102 Òàâðèÿ</td>\n",
       "      <td>front</td>\n",
       "    </tr>\n",
       "    <tr>\n",
       "      <th>4682</th>\n",
       "      <td>Daewoo</td>\n",
       "      <td>4300.00</td>\n",
       "      <td>sedan</td>\n",
       "      <td>23</td>\n",
       "      <td>8.00</td>\n",
       "      <td>Petrol</td>\n",
       "      <td>yes</td>\n",
       "      <td>2012</td>\n",
       "      <td>Matiz</td>\n",
       "      <td>front</td>\n",
       "    </tr>\n",
       "    <tr>\n",
       "      <th>4784</th>\n",
       "      <td>Rolls-Royce</td>\n",
       "      <td>0.00</td>\n",
       "      <td>sedan</td>\n",
       "      <td>22</td>\n",
       "      <td>6.75</td>\n",
       "      <td>Other</td>\n",
       "      <td>yes</td>\n",
       "      <td>2008</td>\n",
       "      <td>Phantom</td>\n",
       "      <td>rear</td>\n",
       "    </tr>\n",
       "    <tr>\n",
       "      <th>5075</th>\n",
       "      <td>Ford</td>\n",
       "      <td>3100.00</td>\n",
       "      <td>hatch</td>\n",
       "      <td>110</td>\n",
       "      <td>7.00</td>\n",
       "      <td>Diesel</td>\n",
       "      <td>yes</td>\n",
       "      <td>1994</td>\n",
       "      <td>Escort</td>\n",
       "      <td>front</td>\n",
       "    </tr>\n",
       "    <tr>\n",
       "      <th>5440</th>\n",
       "      <td>Toyota</td>\n",
       "      <td>10200.00</td>\n",
       "      <td>sedan</td>\n",
       "      <td>122</td>\n",
       "      <td>7.20</td>\n",
       "      <td>Petrol</td>\n",
       "      <td>yes</td>\n",
       "      <td>2011</td>\n",
       "      <td>Corolla</td>\n",
       "      <td>front</td>\n",
       "    </tr>\n",
       "    <tr>\n",
       "      <th>5810</th>\n",
       "      <td>Skoda</td>\n",
       "      <td>5500.00</td>\n",
       "      <td>sedan</td>\n",
       "      <td>215</td>\n",
       "      <td>8.00</td>\n",
       "      <td>Petrol</td>\n",
       "      <td>yes</td>\n",
       "      <td>2002</td>\n",
       "      <td>Octavia</td>\n",
       "      <td>front</td>\n",
       "    </tr>\n",
       "    <tr>\n",
       "      <th>7345</th>\n",
       "      <td>Rolls-Royce</td>\n",
       "      <td>130000.00</td>\n",
       "      <td>other</td>\n",
       "      <td>43</td>\n",
       "      <td>6.75</td>\n",
       "      <td>Petrol</td>\n",
       "      <td>yes</td>\n",
       "      <td>2006</td>\n",
       "      <td>Phantom</td>\n",
       "      <td>rear</td>\n",
       "    </tr>\n",
       "    <tr>\n",
       "      <th>7621</th>\n",
       "      <td>Bentley</td>\n",
       "      <td>547800.00</td>\n",
       "      <td>sedan</td>\n",
       "      <td>0</td>\n",
       "      <td>6.75</td>\n",
       "      <td>Petrol</td>\n",
       "      <td>yes</td>\n",
       "      <td>2016</td>\n",
       "      <td>Mulsanne</td>\n",
       "      <td>rear</td>\n",
       "    </tr>\n",
       "    <tr>\n",
       "      <th>8917</th>\n",
       "      <td>VAZ</td>\n",
       "      <td>1000.00</td>\n",
       "      <td>sedan</td>\n",
       "      <td>10</td>\n",
       "      <td>8.00</td>\n",
       "      <td>Petrol</td>\n",
       "      <td>yes</td>\n",
       "      <td>1982</td>\n",
       "      <td>2101</td>\n",
       "      <td>rear</td>\n",
       "    </tr>\n",
       "  </tbody>\n",
       "</table>\n",
       "</div>"
      ],
      "text/plain": [
       "                car     price   body  mileage  engV engType registration  \\\n",
       "1310       Chrysler  13700.00  other      130  7.00  Petrol          yes   \n",
       "1653  Mercedes-Benz  35500.00  sedan      160  6.50  Petrol          yes   \n",
       "1928         Daewoo   4100.00  other        9  8.00  Petrol          yes   \n",
       "3551            ZAZ      0.00  hatch      130  7.00     Gas          yes   \n",
       "4682         Daewoo   4300.00  sedan       23  8.00  Petrol          yes   \n",
       "4784    Rolls-Royce      0.00  sedan       22  6.75   Other          yes   \n",
       "5075           Ford   3100.00  hatch      110  7.00  Diesel          yes   \n",
       "5440         Toyota  10200.00  sedan      122  7.20  Petrol          yes   \n",
       "5810          Skoda   5500.00  sedan      215  8.00  Petrol          yes   \n",
       "7345    Rolls-Royce 130000.00  other       43  6.75  Petrol          yes   \n",
       "7621        Bentley 547800.00  sedan        0  6.75  Petrol          yes   \n",
       "8917            VAZ   1000.00  sedan       10  8.00  Petrol          yes   \n",
       "\n",
       "      year        model  drive  \n",
       "1310  2005        300 C   rear  \n",
       "1653  2008     S 65 AMG   rear  \n",
       "1928  2008        Matiz  front  \n",
       "3551  2005  1102 Òàâðèÿ  front  \n",
       "4682  2012        Matiz  front  \n",
       "4784  2008      Phantom   rear  \n",
       "5075  1994       Escort  front  \n",
       "5440  2011      Corolla  front  \n",
       "5810  2002      Octavia  front  \n",
       "7345  2006      Phantom   rear  \n",
       "7621  2016     Mulsanne   rear  \n",
       "8917  1982         2101   rear  "
      ]
     },
     "execution_count": 14,
     "metadata": {},
     "output_type": "execute_result"
    }
   ],
   "source": [
    "# Lets check for the number of data points beyond between 6.5 to 8 lts\n",
    "\n",
    "usedcar_df[usedcar_df['engV'].between (6.5,8)]"
   ]
  },
  {
   "cell_type": "markdown",
   "metadata": {},
   "source": [
    "- We can observe that the engV range below 7.00 looks correct\n",
    "- **Beyond 7 - 99.99 the data looks incorrect.**"
   ]
  },
  {
   "cell_type": "code",
   "execution_count": 15,
   "metadata": {},
   "outputs": [
    {
     "data": {
      "text/html": [
       "<div>\n",
       "<style scoped>\n",
       "    .dataframe tbody tr th:only-of-type {\n",
       "        vertical-align: middle;\n",
       "    }\n",
       "\n",
       "    .dataframe tbody tr th {\n",
       "        vertical-align: top;\n",
       "    }\n",
       "\n",
       "    .dataframe thead th {\n",
       "        text-align: right;\n",
       "    }\n",
       "</style>\n",
       "<table border=\"1\" class=\"dataframe\">\n",
       "  <thead>\n",
       "    <tr style=\"text-align: right;\">\n",
       "      <th></th>\n",
       "      <th>car</th>\n",
       "      <th>price</th>\n",
       "      <th>body</th>\n",
       "      <th>mileage</th>\n",
       "      <th>engV</th>\n",
       "      <th>engType</th>\n",
       "      <th>registration</th>\n",
       "      <th>year</th>\n",
       "      <th>model</th>\n",
       "      <th>drive</th>\n",
       "    </tr>\n",
       "  </thead>\n",
       "  <tbody>\n",
       "    <tr>\n",
       "      <th>308</th>\n",
       "      <td>Nissan</td>\n",
       "      <td>17700.00</td>\n",
       "      <td>hatch</td>\n",
       "      <td>21</td>\n",
       "      <td>0.11</td>\n",
       "      <td>Other</td>\n",
       "      <td>yes</td>\n",
       "      <td>2014</td>\n",
       "      <td>Leaf</td>\n",
       "      <td>front</td>\n",
       "    </tr>\n",
       "    <tr>\n",
       "      <th>403</th>\n",
       "      <td>Nissan</td>\n",
       "      <td>15700.00</td>\n",
       "      <td>hatch</td>\n",
       "      <td>22</td>\n",
       "      <td>0.11</td>\n",
       "      <td>Other</td>\n",
       "      <td>yes</td>\n",
       "      <td>2013</td>\n",
       "      <td>Leaf</td>\n",
       "      <td>front</td>\n",
       "    </tr>\n",
       "    <tr>\n",
       "      <th>530</th>\n",
       "      <td>Smart</td>\n",
       "      <td>2300.00</td>\n",
       "      <td>hatch</td>\n",
       "      <td>91</td>\n",
       "      <td>0.60</td>\n",
       "      <td>Petrol</td>\n",
       "      <td>no</td>\n",
       "      <td>2002</td>\n",
       "      <td>Fortwo</td>\n",
       "      <td>rear</td>\n",
       "    </tr>\n",
       "    <tr>\n",
       "      <th>1210</th>\n",
       "      <td>BMW</td>\n",
       "      <td>38888.00</td>\n",
       "      <td>vagon</td>\n",
       "      <td>5</td>\n",
       "      <td>0.65</td>\n",
       "      <td>Other</td>\n",
       "      <td>yes</td>\n",
       "      <td>2015</td>\n",
       "      <td>I3</td>\n",
       "      <td>rear</td>\n",
       "    </tr>\n",
       "    <tr>\n",
       "      <th>1377</th>\n",
       "      <td>Smart</td>\n",
       "      <td>4300.00</td>\n",
       "      <td>other</td>\n",
       "      <td>108</td>\n",
       "      <td>0.60</td>\n",
       "      <td>Petrol</td>\n",
       "      <td>yes</td>\n",
       "      <td>2002</td>\n",
       "      <td>Fortwo</td>\n",
       "      <td>rear</td>\n",
       "    </tr>\n",
       "    <tr>\n",
       "      <th>1694</th>\n",
       "      <td>Smart</td>\n",
       "      <td>3100.00</td>\n",
       "      <td>other</td>\n",
       "      <td>103</td>\n",
       "      <td>0.60</td>\n",
       "      <td>Petrol</td>\n",
       "      <td>yes</td>\n",
       "      <td>2000</td>\n",
       "      <td>Fortwo</td>\n",
       "      <td>rear</td>\n",
       "    </tr>\n",
       "    <tr>\n",
       "      <th>2485</th>\n",
       "      <td>Tesla</td>\n",
       "      <td>99000.00</td>\n",
       "      <td>sedan</td>\n",
       "      <td>15</td>\n",
       "      <td>0.70</td>\n",
       "      <td>Other</td>\n",
       "      <td>yes</td>\n",
       "      <td>2015</td>\n",
       "      <td>Model S</td>\n",
       "      <td>full</td>\n",
       "    </tr>\n",
       "    <tr>\n",
       "      <th>2813</th>\n",
       "      <td>Smart</td>\n",
       "      <td>5600.00</td>\n",
       "      <td>other</td>\n",
       "      <td>158</td>\n",
       "      <td>0.70</td>\n",
       "      <td>Petrol</td>\n",
       "      <td>yes</td>\n",
       "      <td>2006</td>\n",
       "      <td>Fortwo</td>\n",
       "      <td>rear</td>\n",
       "    </tr>\n",
       "    <tr>\n",
       "      <th>3029</th>\n",
       "      <td>Smart</td>\n",
       "      <td>3400.00</td>\n",
       "      <td>other</td>\n",
       "      <td>125</td>\n",
       "      <td>0.60</td>\n",
       "      <td>Petrol</td>\n",
       "      <td>yes</td>\n",
       "      <td>2000</td>\n",
       "      <td>Fortwo</td>\n",
       "      <td>rear</td>\n",
       "    </tr>\n",
       "    <tr>\n",
       "      <th>3683</th>\n",
       "      <td>Smart</td>\n",
       "      <td>5000.00</td>\n",
       "      <td>other</td>\n",
       "      <td>125</td>\n",
       "      <td>0.70</td>\n",
       "      <td>Petrol</td>\n",
       "      <td>yes</td>\n",
       "      <td>2004</td>\n",
       "      <td>Fortwo</td>\n",
       "      <td>rear</td>\n",
       "    </tr>\n",
       "    <tr>\n",
       "      <th>4077</th>\n",
       "      <td>Smart</td>\n",
       "      <td>8300.00</td>\n",
       "      <td>other</td>\n",
       "      <td>112</td>\n",
       "      <td>0.70</td>\n",
       "      <td>Petrol</td>\n",
       "      <td>yes</td>\n",
       "      <td>2003</td>\n",
       "      <td>Roadster</td>\n",
       "      <td>rear</td>\n",
       "    </tr>\n",
       "    <tr>\n",
       "      <th>4520</th>\n",
       "      <td>Smart</td>\n",
       "      <td>5000.00</td>\n",
       "      <td>hatch</td>\n",
       "      <td>102</td>\n",
       "      <td>0.70</td>\n",
       "      <td>Petrol</td>\n",
       "      <td>yes</td>\n",
       "      <td>2005</td>\n",
       "      <td>Fortwo</td>\n",
       "      <td>rear</td>\n",
       "    </tr>\n",
       "    <tr>\n",
       "      <th>4545</th>\n",
       "      <td>Smart</td>\n",
       "      <td>5100.00</td>\n",
       "      <td>other</td>\n",
       "      <td>113</td>\n",
       "      <td>0.70</td>\n",
       "      <td>Petrol</td>\n",
       "      <td>yes</td>\n",
       "      <td>2005</td>\n",
       "      <td>Fortwo</td>\n",
       "      <td>rear</td>\n",
       "    </tr>\n",
       "    <tr>\n",
       "      <th>4770</th>\n",
       "      <td>Mercedes-Benz</td>\n",
       "      <td>3800.00</td>\n",
       "      <td>other</td>\n",
       "      <td>107</td>\n",
       "      <td>0.60</td>\n",
       "      <td>Petrol</td>\n",
       "      <td>yes</td>\n",
       "      <td>2000</td>\n",
       "      <td>Smart</td>\n",
       "      <td>rear</td>\n",
       "    </tr>\n",
       "    <tr>\n",
       "      <th>5182</th>\n",
       "      <td>Smart</td>\n",
       "      <td>4490.00</td>\n",
       "      <td>other</td>\n",
       "      <td>168</td>\n",
       "      <td>0.70</td>\n",
       "      <td>Petrol</td>\n",
       "      <td>yes</td>\n",
       "      <td>2003</td>\n",
       "      <td>Cabrio</td>\n",
       "      <td>rear</td>\n",
       "    </tr>\n",
       "    <tr>\n",
       "      <th>5636</th>\n",
       "      <td>Smart</td>\n",
       "      <td>3999.00</td>\n",
       "      <td>hatch</td>\n",
       "      <td>171</td>\n",
       "      <td>0.60</td>\n",
       "      <td>Petrol</td>\n",
       "      <td>yes</td>\n",
       "      <td>2002</td>\n",
       "      <td>Fortwo</td>\n",
       "      <td>rear</td>\n",
       "    </tr>\n",
       "    <tr>\n",
       "      <th>5710</th>\n",
       "      <td>Smart</td>\n",
       "      <td>3450.00</td>\n",
       "      <td>sedan</td>\n",
       "      <td>155</td>\n",
       "      <td>0.60</td>\n",
       "      <td>Petrol</td>\n",
       "      <td>yes</td>\n",
       "      <td>1999</td>\n",
       "      <td>Fortwo</td>\n",
       "      <td>rear</td>\n",
       "    </tr>\n",
       "    <tr>\n",
       "      <th>6160</th>\n",
       "      <td>Smart</td>\n",
       "      <td>4000.00</td>\n",
       "      <td>hatch</td>\n",
       "      <td>141</td>\n",
       "      <td>0.60</td>\n",
       "      <td>Petrol</td>\n",
       "      <td>yes</td>\n",
       "      <td>2001</td>\n",
       "      <td>Fortwo</td>\n",
       "      <td>rear</td>\n",
       "    </tr>\n",
       "    <tr>\n",
       "      <th>6910</th>\n",
       "      <td>Smart</td>\n",
       "      <td>3900.00</td>\n",
       "      <td>other</td>\n",
       "      <td>138</td>\n",
       "      <td>0.60</td>\n",
       "      <td>Petrol</td>\n",
       "      <td>yes</td>\n",
       "      <td>2000</td>\n",
       "      <td>City</td>\n",
       "      <td>rear</td>\n",
       "    </tr>\n",
       "    <tr>\n",
       "      <th>7572</th>\n",
       "      <td>Smart</td>\n",
       "      <td>4200.00</td>\n",
       "      <td>other</td>\n",
       "      <td>170</td>\n",
       "      <td>0.60</td>\n",
       "      <td>Petrol</td>\n",
       "      <td>yes</td>\n",
       "      <td>2000</td>\n",
       "      <td>Fortwo</td>\n",
       "      <td>rear</td>\n",
       "    </tr>\n",
       "    <tr>\n",
       "      <th>8272</th>\n",
       "      <td>Smart</td>\n",
       "      <td>4150.00</td>\n",
       "      <td>other</td>\n",
       "      <td>125</td>\n",
       "      <td>0.60</td>\n",
       "      <td>Petrol</td>\n",
       "      <td>yes</td>\n",
       "      <td>2002</td>\n",
       "      <td>Fortwo</td>\n",
       "      <td>rear</td>\n",
       "    </tr>\n",
       "    <tr>\n",
       "      <th>8274</th>\n",
       "      <td>Smart</td>\n",
       "      <td>4100.00</td>\n",
       "      <td>other</td>\n",
       "      <td>220</td>\n",
       "      <td>0.60</td>\n",
       "      <td>Petrol</td>\n",
       "      <td>yes</td>\n",
       "      <td>2001</td>\n",
       "      <td>Fortwo</td>\n",
       "      <td>rear</td>\n",
       "    </tr>\n",
       "    <tr>\n",
       "      <th>8276</th>\n",
       "      <td>Smart</td>\n",
       "      <td>4300.00</td>\n",
       "      <td>hatch</td>\n",
       "      <td>80</td>\n",
       "      <td>0.60</td>\n",
       "      <td>Petrol</td>\n",
       "      <td>yes</td>\n",
       "      <td>2000</td>\n",
       "      <td>City</td>\n",
       "      <td>NaN</td>\n",
       "    </tr>\n",
       "    <tr>\n",
       "      <th>8280</th>\n",
       "      <td>Smart</td>\n",
       "      <td>3200.00</td>\n",
       "      <td>other</td>\n",
       "      <td>3</td>\n",
       "      <td>0.60</td>\n",
       "      <td>Petrol</td>\n",
       "      <td>yes</td>\n",
       "      <td>1999</td>\n",
       "      <td>Forfour</td>\n",
       "      <td>rear</td>\n",
       "    </tr>\n",
       "    <tr>\n",
       "      <th>8426</th>\n",
       "      <td>Smart</td>\n",
       "      <td>5500.00</td>\n",
       "      <td>other</td>\n",
       "      <td>130</td>\n",
       "      <td>0.70</td>\n",
       "      <td>Other</td>\n",
       "      <td>yes</td>\n",
       "      <td>2005</td>\n",
       "      <td>Fortwo</td>\n",
       "      <td>rear</td>\n",
       "    </tr>\n",
       "    <tr>\n",
       "      <th>8427</th>\n",
       "      <td>Smart</td>\n",
       "      <td>7500.00</td>\n",
       "      <td>other</td>\n",
       "      <td>150</td>\n",
       "      <td>0.70</td>\n",
       "      <td>Petrol</td>\n",
       "      <td>yes</td>\n",
       "      <td>2006</td>\n",
       "      <td>Fortwo</td>\n",
       "      <td>NaN</td>\n",
       "    </tr>\n",
       "    <tr>\n",
       "      <th>8428</th>\n",
       "      <td>Smart</td>\n",
       "      <td>4500.00</td>\n",
       "      <td>other</td>\n",
       "      <td>126</td>\n",
       "      <td>0.60</td>\n",
       "      <td>Gas</td>\n",
       "      <td>yes</td>\n",
       "      <td>2001</td>\n",
       "      <td>Fortwo</td>\n",
       "      <td>rear</td>\n",
       "    </tr>\n",
       "    <tr>\n",
       "      <th>8498</th>\n",
       "      <td>Smart</td>\n",
       "      <td>3600.00</td>\n",
       "      <td>hatch</td>\n",
       "      <td>115</td>\n",
       "      <td>0.60</td>\n",
       "      <td>Petrol</td>\n",
       "      <td>yes</td>\n",
       "      <td>1998</td>\n",
       "      <td>Fortwo</td>\n",
       "      <td>rear</td>\n",
       "    </tr>\n",
       "    <tr>\n",
       "      <th>8624</th>\n",
       "      <td>Smart</td>\n",
       "      <td>5500.00</td>\n",
       "      <td>other</td>\n",
       "      <td>115</td>\n",
       "      <td>0.60</td>\n",
       "      <td>Petrol</td>\n",
       "      <td>yes</td>\n",
       "      <td>2001</td>\n",
       "      <td>Fortwo</td>\n",
       "      <td>NaN</td>\n",
       "    </tr>\n",
       "    <tr>\n",
       "      <th>8995</th>\n",
       "      <td>Smart</td>\n",
       "      <td>4950.00</td>\n",
       "      <td>other</td>\n",
       "      <td>181</td>\n",
       "      <td>0.70</td>\n",
       "      <td>Petrol</td>\n",
       "      <td>yes</td>\n",
       "      <td>2003</td>\n",
       "      <td>Cabrio</td>\n",
       "      <td>rear</td>\n",
       "    </tr>\n",
       "    <tr>\n",
       "      <th>9247</th>\n",
       "      <td>Ford</td>\n",
       "      <td>24300.00</td>\n",
       "      <td>hatch</td>\n",
       "      <td>25</td>\n",
       "      <td>0.14</td>\n",
       "      <td>Other</td>\n",
       "      <td>yes</td>\n",
       "      <td>2013</td>\n",
       "      <td>Focus</td>\n",
       "      <td>front</td>\n",
       "    </tr>\n",
       "    <tr>\n",
       "      <th>9251</th>\n",
       "      <td>Tesla</td>\n",
       "      <td>54000.00</td>\n",
       "      <td>sedan</td>\n",
       "      <td>49</td>\n",
       "      <td>0.10</td>\n",
       "      <td>Other</td>\n",
       "      <td>yes</td>\n",
       "      <td>2013</td>\n",
       "      <td>Model S</td>\n",
       "      <td>rear</td>\n",
       "    </tr>\n",
       "  </tbody>\n",
       "</table>\n",
       "</div>"
      ],
      "text/plain": [
       "                car    price   body  mileage  engV engType registration  year  \\\n",
       "308          Nissan 17700.00  hatch       21  0.11   Other          yes  2014   \n",
       "403          Nissan 15700.00  hatch       22  0.11   Other          yes  2013   \n",
       "530           Smart  2300.00  hatch       91  0.60  Petrol           no  2002   \n",
       "1210            BMW 38888.00  vagon        5  0.65   Other          yes  2015   \n",
       "1377          Smart  4300.00  other      108  0.60  Petrol          yes  2002   \n",
       "1694          Smart  3100.00  other      103  0.60  Petrol          yes  2000   \n",
       "2485          Tesla 99000.00  sedan       15  0.70   Other          yes  2015   \n",
       "2813          Smart  5600.00  other      158  0.70  Petrol          yes  2006   \n",
       "3029          Smart  3400.00  other      125  0.60  Petrol          yes  2000   \n",
       "3683          Smart  5000.00  other      125  0.70  Petrol          yes  2004   \n",
       "4077          Smart  8300.00  other      112  0.70  Petrol          yes  2003   \n",
       "4520          Smart  5000.00  hatch      102  0.70  Petrol          yes  2005   \n",
       "4545          Smart  5100.00  other      113  0.70  Petrol          yes  2005   \n",
       "4770  Mercedes-Benz  3800.00  other      107  0.60  Petrol          yes  2000   \n",
       "5182          Smart  4490.00  other      168  0.70  Petrol          yes  2003   \n",
       "5636          Smart  3999.00  hatch      171  0.60  Petrol          yes  2002   \n",
       "5710          Smart  3450.00  sedan      155  0.60  Petrol          yes  1999   \n",
       "6160          Smart  4000.00  hatch      141  0.60  Petrol          yes  2001   \n",
       "6910          Smart  3900.00  other      138  0.60  Petrol          yes  2000   \n",
       "7572          Smart  4200.00  other      170  0.60  Petrol          yes  2000   \n",
       "8272          Smart  4150.00  other      125  0.60  Petrol          yes  2002   \n",
       "8274          Smart  4100.00  other      220  0.60  Petrol          yes  2001   \n",
       "8276          Smart  4300.00  hatch       80  0.60  Petrol          yes  2000   \n",
       "8280          Smart  3200.00  other        3  0.60  Petrol          yes  1999   \n",
       "8426          Smart  5500.00  other      130  0.70   Other          yes  2005   \n",
       "8427          Smart  7500.00  other      150  0.70  Petrol          yes  2006   \n",
       "8428          Smart  4500.00  other      126  0.60     Gas          yes  2001   \n",
       "8498          Smart  3600.00  hatch      115  0.60  Petrol          yes  1998   \n",
       "8624          Smart  5500.00  other      115  0.60  Petrol          yes  2001   \n",
       "8995          Smart  4950.00  other      181  0.70  Petrol          yes  2003   \n",
       "9247           Ford 24300.00  hatch       25  0.14   Other          yes  2013   \n",
       "9251          Tesla 54000.00  sedan       49  0.10   Other          yes  2013   \n",
       "\n",
       "         model  drive  \n",
       "308       Leaf  front  \n",
       "403       Leaf  front  \n",
       "530     Fortwo   rear  \n",
       "1210        I3   rear  \n",
       "1377    Fortwo   rear  \n",
       "1694    Fortwo   rear  \n",
       "2485   Model S   full  \n",
       "2813    Fortwo   rear  \n",
       "3029    Fortwo   rear  \n",
       "3683    Fortwo   rear  \n",
       "4077  Roadster   rear  \n",
       "4520    Fortwo   rear  \n",
       "4545    Fortwo   rear  \n",
       "4770     Smart   rear  \n",
       "5182    Cabrio   rear  \n",
       "5636    Fortwo   rear  \n",
       "5710    Fortwo   rear  \n",
       "6160    Fortwo   rear  \n",
       "6910      City   rear  \n",
       "7572    Fortwo   rear  \n",
       "8272    Fortwo   rear  \n",
       "8274    Fortwo   rear  \n",
       "8276      City    NaN  \n",
       "8280   Forfour   rear  \n",
       "8426    Fortwo   rear  \n",
       "8427    Fortwo    NaN  \n",
       "8428    Fortwo   rear  \n",
       "8498    Fortwo   rear  \n",
       "8624    Fortwo    NaN  \n",
       "8995    Cabrio   rear  \n",
       "9247     Focus  front  \n",
       "9251   Model S   rear  "
      ]
     },
     "execution_count": 15,
     "metadata": {},
     "output_type": "execute_result"
    }
   ],
   "source": [
    "# Lets check for the number of data points beyond between 6.5 to 8 lts\n",
    "\n",
    "usedcar_df[usedcar_df['engV'].between (0,0.7)]"
   ]
  },
  {
   "cell_type": "markdown",
   "metadata": {},
   "source": [
    "- engV of range 0 to 0.7 looks more of hybrid / electic engines, we will continue using it for the analysis."
   ]
  },
  {
   "cell_type": "code",
   "execution_count": 16,
   "metadata": {},
   "outputs": [
    {
     "data": {
      "text/plain": [
       "70"
      ]
     },
     "execution_count": 16,
     "metadata": {},
     "output_type": "execute_result"
    }
   ],
   "source": [
    "# Lets check for the number of data points beyond between 8 to 99.99 lts\n",
    "\n",
    "ev1 = usedcar_df[usedcar_df['engV'].between (7,99.99)]\n",
    "len(ev1)"
   ]
  },
  {
   "cell_type": "markdown",
   "metadata": {},
   "source": [
    "- Total of 70 data points of engV lie between 7 to 99.99.\n",
    "- These values can be changed to null values instead of dropping for correaltions which do not require engine variant."
   ]
  },
  {
   "cell_type": "markdown",
   "metadata": {
    "colab_type": "text",
    "id": "efZ8svauqc55"
   },
   "source": [
    "---\n",
    "<a name = Section5></a>\n",
    "# **5. Data Pre-Profiling**\n",
    "---\n",
    "\n",
    "- This section is emphasised on getting a report about the data.\n",
    "\n",
    "- You need to perform pandas profiling and get some observations out of it..."
   ]
  },
  {
   "cell_type": "code",
   "execution_count": 17,
   "metadata": {},
   "outputs": [],
   "source": [
    "import pandas_profiling"
   ]
  },
  {
   "cell_type": "code",
   "execution_count": 18,
   "metadata": {
    "colab": {},
    "colab_type": "code",
    "id": "VEHxAq8Zqcgo"
   },
   "outputs": [
    {
     "data": {
      "application/vnd.jupyter.widget-view+json": {
       "model_id": "63be25418171477bb2b21d5c928f4d1d",
       "version_major": 2,
       "version_minor": 0
      },
      "text/plain": [
       "HBox(children=(HTML(value='Summarize dataset'), FloatProgress(value=0.0, max=24.0), HTML(value='')))"
      ]
     },
     "metadata": {},
     "output_type": "display_data"
    },
    {
     "name": "stdout",
     "output_type": "stream",
     "text": [
      "\n"
     ]
    },
    {
     "data": {
      "application/vnd.jupyter.widget-view+json": {
       "model_id": "ddef36c6533f49b3ad6e532e66111a38",
       "version_major": 2,
       "version_minor": 0
      },
      "text/plain": [
       "HBox(children=(HTML(value='Generate report structure'), FloatProgress(value=0.0, max=1.0), HTML(value='')))"
      ]
     },
     "metadata": {},
     "output_type": "display_data"
    },
    {
     "name": "stdout",
     "output_type": "stream",
     "text": [
      "\n"
     ]
    },
    {
     "data": {
      "application/vnd.jupyter.widget-view+json": {
       "model_id": "70bebb78bb594ef8910710c75cc24eb9",
       "version_major": 2,
       "version_minor": 0
      },
      "text/plain": [
       "HBox(children=(HTML(value='Render HTML'), FloatProgress(value=0.0, max=1.0), HTML(value='')))"
      ]
     },
     "metadata": {},
     "output_type": "display_data"
    },
    {
     "name": "stdout",
     "output_type": "stream",
     "text": [
      "\n"
     ]
    },
    {
     "data": {
      "application/vnd.jupyter.widget-view+json": {
       "model_id": "785a3366b9424eb3af6ab5f854601e84",
       "version_major": 2,
       "version_minor": 0
      },
      "text/plain": [
       "HBox(children=(HTML(value='Export report to file'), FloatProgress(value=0.0, max=1.0), HTML(value='')))"
      ]
     },
     "metadata": {},
     "output_type": "display_data"
    },
    {
     "name": "stdout",
     "output_type": "stream",
     "text": [
      "\n"
     ]
    }
   ],
   "source": [
    "# To output pandas profiling report to an external html file.\n",
    "# Saving the output as profiling_before_preprocessing.html\n",
    "\n",
    "profile = pandas_profiling.ProfileReport(usedcar_df)\n",
    "profile.to_file(output_file=\"profiling_before_preprocessing.html\")"
   ]
  },
  {
   "cell_type": "markdown",
   "metadata": {},
   "source": [
    "**Observations from Pandas Profiling before Data Processing**\n",
    "__Dataset info__:\n",
    "- Number of variables\t- 10\n",
    "- Number of observations - 9576\n",
    "- Missing cells (%) - 1.0%\n",
    "- Duplicate rows\t113\n",
    "\n",
    "__Variables types__: \n",
    "- Numeric = 3\n",
    "- Categorical = 5\n",
    "- Date = 1\n",
    "- Boolean = 1 (registration column with Yes / No)\n",
    "\n",
    "- There are 87 brands of car with Volkswagen being the most prefered brand.\n",
    "- **Price** has 267 values as zero which can be considered as missing values.\n",
    "- **Sedan** and **Crossover** are the most prefered car body type.\n",
    "- **Mileage** value of **Zero** might indicate new cars.\n",
    "- **engV** has 434 missing data and per our prior analysis, rows withvalues from 7 to 99.99 needs to be dropped.\n",
    "- engV and Drive has **highest missing values**."
   ]
  },
  {
   "cell_type": "markdown",
   "metadata": {
    "colab_type": "text",
    "id": "YMvtK0X-qoe6"
   },
   "source": [
    "---\n",
    "<a name = Section6></a>\n",
    "# **6. Data Pre-Processing**\n",
    "---\n",
    "\n",
    "- This section is emphasised on performing data manipulation over unstructured data for further processing and analysis.\n",
    "\n",
    "- To modify unstructured data to strucuted data you need to verify and manipulate the integrity of the data by:\n",
    "  - Handling missing data,\n",
    "\n",
    "  - Handling redundant data,\n",
    "\n",
    "  - Handling inconsistent data,\n",
    "\n",
    "  - Handling outliers,\n",
    "\n",
    "  - Handling typos"
   ]
  },
  {
   "cell_type": "code",
   "execution_count": 110,
   "metadata": {
    "colab": {},
    "colab_type": "code",
    "id": "FxzbSzWDqytZ"
   },
   "outputs": [
    {
     "data": {
      "text/plain": [
       "0"
      ]
     },
     "execution_count": 110,
     "metadata": {},
     "output_type": "execute_result"
    }
   ],
   "source": [
    "# Lets check for duplicates\n",
    "duplicate = usedcar_df[usedcar_df.duplicated()]\n",
    "len(duplicate)"
   ]
  },
  {
   "cell_type": "code",
   "execution_count": 111,
   "metadata": {},
   "outputs": [
    {
     "data": {
      "text/plain": [
       "9463"
      ]
     },
     "execution_count": 111,
     "metadata": {},
     "output_type": "execute_result"
    }
   ],
   "source": [
    "# To retain original dataset, we will copy it to a new dataframe with dropped duplicates\n",
    "usedcar_df = usedcar_df.drop_duplicates()\n",
    "len(usedcar_df)"
   ]
  },
  {
   "cell_type": "code",
   "execution_count": 112,
   "metadata": {},
   "outputs": [],
   "source": [
    "# replacing Price zero with Nan values in the main DF\n",
    "usedcar_df['price'].replace(0, np.nan, inplace=True)"
   ]
  },
  {
   "cell_type": "code",
   "execution_count": 113,
   "metadata": {},
   "outputs": [],
   "source": [
    "# copying DF to a new Dataframe\n",
    "usedcar_df_new =usedcar_df.copy()"
   ]
  },
  {
   "cell_type": "code",
   "execution_count": 114,
   "metadata": {},
   "outputs": [],
   "source": [
    "# Replacing the values of engV between 7 to 99.99 with nan values\n",
    "\n",
    "usedcar_df_new['engV'] = np.where(usedcar_df_new['engV'].between(7,100), np.nan, usedcar_df_new['engV'])"
   ]
  },
  {
   "cell_type": "code",
   "execution_count": 115,
   "metadata": {},
   "outputs": [
    {
     "data": {
      "text/html": [
       "<div>\n",
       "<style scoped>\n",
       "    .dataframe tbody tr th:only-of-type {\n",
       "        vertical-align: middle;\n",
       "    }\n",
       "\n",
       "    .dataframe tbody tr th {\n",
       "        vertical-align: top;\n",
       "    }\n",
       "\n",
       "    .dataframe thead th {\n",
       "        text-align: right;\n",
       "    }\n",
       "</style>\n",
       "<table border=\"1\" class=\"dataframe\">\n",
       "  <thead>\n",
       "    <tr style=\"text-align: right;\">\n",
       "      <th></th>\n",
       "      <th>price</th>\n",
       "      <th>mileage</th>\n",
       "      <th>engV</th>\n",
       "      <th>year</th>\n",
       "    </tr>\n",
       "  </thead>\n",
       "  <tbody>\n",
       "    <tr>\n",
       "      <th>count</th>\n",
       "      <td>9223.00</td>\n",
       "      <td>9463.00</td>\n",
       "      <td>8959.00</td>\n",
       "      <td>9463.00</td>\n",
       "    </tr>\n",
       "    <tr>\n",
       "      <th>mean</th>\n",
       "      <td>15702.09</td>\n",
       "      <td>139.92</td>\n",
       "      <td>2.23</td>\n",
       "      <td>2006.53</td>\n",
       "    </tr>\n",
       "    <tr>\n",
       "      <th>std</th>\n",
       "      <td>23221.22</td>\n",
       "      <td>98.47</td>\n",
       "      <td>0.96</td>\n",
       "      <td>7.06</td>\n",
       "    </tr>\n",
       "    <tr>\n",
       "      <th>min</th>\n",
       "      <td>259.35</td>\n",
       "      <td>0.00</td>\n",
       "      <td>0.10</td>\n",
       "      <td>1953.00</td>\n",
       "    </tr>\n",
       "    <tr>\n",
       "      <th>25%</th>\n",
       "      <td>5400.00</td>\n",
       "      <td>70.00</td>\n",
       "      <td>1.60</td>\n",
       "      <td>2004.00</td>\n",
       "    </tr>\n",
       "    <tr>\n",
       "      <th>50%</th>\n",
       "      <td>9500.00</td>\n",
       "      <td>129.00</td>\n",
       "      <td>2.00</td>\n",
       "      <td>2008.00</td>\n",
       "    </tr>\n",
       "    <tr>\n",
       "      <th>75%</th>\n",
       "      <td>16800.00</td>\n",
       "      <td>195.00</td>\n",
       "      <td>2.50</td>\n",
       "      <td>2012.00</td>\n",
       "    </tr>\n",
       "    <tr>\n",
       "      <th>max</th>\n",
       "      <td>547800.00</td>\n",
       "      <td>999.00</td>\n",
       "      <td>6.75</td>\n",
       "      <td>2016.00</td>\n",
       "    </tr>\n",
       "  </tbody>\n",
       "</table>\n",
       "</div>"
      ],
      "text/plain": [
       "          price  mileage    engV    year\n",
       "count   9223.00  9463.00 8959.00 9463.00\n",
       "mean   15702.09   139.92    2.23 2006.53\n",
       "std    23221.22    98.47    0.96    7.06\n",
       "min      259.35     0.00    0.10 1953.00\n",
       "25%     5400.00    70.00    1.60 2004.00\n",
       "50%     9500.00   129.00    2.00 2008.00\n",
       "75%    16800.00   195.00    2.50 2012.00\n",
       "max   547800.00   999.00    6.75 2016.00"
      ]
     },
     "execution_count": 115,
     "metadata": {},
     "output_type": "execute_result"
    }
   ],
   "source": [
    "usedcar_df_new.describe()"
   ]
  },
  {
   "cell_type": "markdown",
   "metadata": {},
   "source": [
    "- The min value of Price has been corrected by changing value zero\n",
    "- The max value of engV has been corrected by changing values from 7 to 99.99 to null"
   ]
  },
  {
   "cell_type": "code",
   "execution_count": 116,
   "metadata": {},
   "outputs": [],
   "source": [
    "# lets drop the rows with Nan values from Price, engv and drive\n",
    "\n",
    "usedcar_df_new.dropna(subset=['price'], inplace = True)\n",
    "usedcar_df_new.dropna(subset=['engV'], inplace = True)\n",
    "usedcar_df_new.dropna(subset=['drive'], inplace = True)"
   ]
  },
  {
   "cell_type": "code",
   "execution_count": 117,
   "metadata": {},
   "outputs": [
    {
     "data": {
      "text/html": [
       "<div>\n",
       "<style scoped>\n",
       "    .dataframe tbody tr th:only-of-type {\n",
       "        vertical-align: middle;\n",
       "    }\n",
       "\n",
       "    .dataframe tbody tr th {\n",
       "        vertical-align: top;\n",
       "    }\n",
       "\n",
       "    .dataframe thead th {\n",
       "        text-align: right;\n",
       "    }\n",
       "</style>\n",
       "<table border=\"1\" class=\"dataframe\">\n",
       "  <thead>\n",
       "    <tr style=\"text-align: right;\">\n",
       "      <th></th>\n",
       "      <th>car</th>\n",
       "      <th>price</th>\n",
       "      <th>body</th>\n",
       "      <th>mileage</th>\n",
       "      <th>engV</th>\n",
       "      <th>engType</th>\n",
       "      <th>registration</th>\n",
       "      <th>year</th>\n",
       "      <th>model</th>\n",
       "      <th>drive</th>\n",
       "    </tr>\n",
       "  </thead>\n",
       "  <tbody>\n",
       "    <tr>\n",
       "      <th>5607</th>\n",
       "      <td>Mercedes-Benz</td>\n",
       "      <td>35500.00</td>\n",
       "      <td>sedan</td>\n",
       "      <td>137</td>\n",
       "      <td>3.00</td>\n",
       "      <td>Diesel</td>\n",
       "      <td>yes</td>\n",
       "      <td>2011</td>\n",
       "      <td>E-Class</td>\n",
       "      <td>full</td>\n",
       "    </tr>\n",
       "    <tr>\n",
       "      <th>6071</th>\n",
       "      <td>Mercedes-Benz</td>\n",
       "      <td>115000.00</td>\n",
       "      <td>sedan</td>\n",
       "      <td>47</td>\n",
       "      <td>4.60</td>\n",
       "      <td>Petrol</td>\n",
       "      <td>yes</td>\n",
       "      <td>2013</td>\n",
       "      <td>S 500</td>\n",
       "      <td>full</td>\n",
       "    </tr>\n",
       "    <tr>\n",
       "      <th>2005</th>\n",
       "      <td>Renault</td>\n",
       "      <td>7440.00</td>\n",
       "      <td>other</td>\n",
       "      <td>148</td>\n",
       "      <td>1.50</td>\n",
       "      <td>Diesel</td>\n",
       "      <td>yes</td>\n",
       "      <td>2012</td>\n",
       "      <td>Kangoo ãðóç.</td>\n",
       "      <td>front</td>\n",
       "    </tr>\n",
       "    <tr>\n",
       "      <th>7161</th>\n",
       "      <td>Renault</td>\n",
       "      <td>3300.00</td>\n",
       "      <td>van</td>\n",
       "      <td>256</td>\n",
       "      <td>1.50</td>\n",
       "      <td>Diesel</td>\n",
       "      <td>yes</td>\n",
       "      <td>2005</td>\n",
       "      <td>Kangoo ãðóç.</td>\n",
       "      <td>front</td>\n",
       "    </tr>\n",
       "    <tr>\n",
       "      <th>6771</th>\n",
       "      <td>VAZ</td>\n",
       "      <td>926.25</td>\n",
       "      <td>sedan</td>\n",
       "      <td>150</td>\n",
       "      <td>1.20</td>\n",
       "      <td>Petrol</td>\n",
       "      <td>yes</td>\n",
       "      <td>1986</td>\n",
       "      <td>2101</td>\n",
       "      <td>rear</td>\n",
       "    </tr>\n",
       "  </tbody>\n",
       "</table>\n",
       "</div>"
      ],
      "text/plain": [
       "                car     price   body  mileage  engV engType registration  \\\n",
       "5607  Mercedes-Benz  35500.00  sedan      137  3.00  Diesel          yes   \n",
       "6071  Mercedes-Benz 115000.00  sedan       47  4.60  Petrol          yes   \n",
       "2005        Renault   7440.00  other      148  1.50  Diesel          yes   \n",
       "7161        Renault   3300.00    van      256  1.50  Diesel          yes   \n",
       "6771            VAZ    926.25  sedan      150  1.20  Petrol          yes   \n",
       "\n",
       "      year         model  drive  \n",
       "5607  2011       E-Class   full  \n",
       "6071  2013         S 500   full  \n",
       "2005  2012  Kangoo ãðóç.  front  \n",
       "7161  2005  Kangoo ãðóç.  front  \n",
       "6771  1986          2101   rear  "
      ]
     },
     "execution_count": 117,
     "metadata": {},
     "output_type": "execute_result"
    }
   ],
   "source": [
    "usedcar_df_new.reset_index(inplace = True, drop = True)\n",
    "usedcar_df_new.sample(5)"
   ]
  },
  {
   "cell_type": "markdown",
   "metadata": {},
   "source": [
    "- Out of total 9575 rows in the source DF, around 12.7% (1223 rows) has been dropped to get rid on incorrect data\n",
    "\n",
    "**We have 2 dataframes, one with null values and other with no null values.** \n",
    "- Both the dataframes will be used for specific analysis"
   ]
  },
  {
   "cell_type": "markdown",
   "metadata": {
    "colab_type": "text",
    "id": "amsQwri2q1_J"
   },
   "source": [
    "---\n",
    "<a name = Section7></a>\n",
    "# **7. Data Post-Profiling**\n",
    "---\n",
    "\n",
    "- This section is emphasised on getting a report about the data after the data manipulation.\n",
    "\n",
    "- You may end up observing some new changes, so keep it under check and make right observations."
   ]
  },
  {
   "cell_type": "code",
   "execution_count": 118,
   "metadata": {
    "colab": {},
    "colab_type": "code",
    "id": "87U7K8sWq1y5"
   },
   "outputs": [
    {
     "data": {
      "application/vnd.jupyter.widget-view+json": {
       "model_id": "1f9d7ac4a5ef4a52a597f7e9e2047a6b",
       "version_major": 2,
       "version_minor": 0
      },
      "text/plain": [
       "HBox(children=(HTML(value='Summarize dataset'), FloatProgress(value=0.0, max=24.0), HTML(value='')))"
      ]
     },
     "metadata": {},
     "output_type": "display_data"
    },
    {
     "name": "stdout",
     "output_type": "stream",
     "text": [
      "\n"
     ]
    },
    {
     "data": {
      "application/vnd.jupyter.widget-view+json": {
       "model_id": "4c07706ccf484b9fbbdedb348439bcf7",
       "version_major": 2,
       "version_minor": 0
      },
      "text/plain": [
       "HBox(children=(HTML(value='Generate report structure'), FloatProgress(value=0.0, max=1.0), HTML(value='')))"
      ]
     },
     "metadata": {},
     "output_type": "display_data"
    },
    {
     "name": "stdout",
     "output_type": "stream",
     "text": [
      "\n"
     ]
    },
    {
     "data": {
      "application/vnd.jupyter.widget-view+json": {
       "model_id": "d2749a6bd6764a9f8953b45abe4f3a42",
       "version_major": 2,
       "version_minor": 0
      },
      "text/plain": [
       "HBox(children=(HTML(value='Render HTML'), FloatProgress(value=0.0, max=1.0), HTML(value='')))"
      ]
     },
     "metadata": {},
     "output_type": "display_data"
    },
    {
     "name": "stdout",
     "output_type": "stream",
     "text": [
      "\n"
     ]
    },
    {
     "data": {
      "application/vnd.jupyter.widget-view+json": {
       "model_id": "f6e7c6a99c08481a9d0f40d883ddc03b",
       "version_major": 2,
       "version_minor": 0
      },
      "text/plain": [
       "HBox(children=(HTML(value='Export report to file'), FloatProgress(value=0.0, max=1.0), HTML(value='')))"
      ]
     },
     "metadata": {},
     "output_type": "display_data"
    },
    {
     "name": "stdout",
     "output_type": "stream",
     "text": [
      "\n"
     ]
    }
   ],
   "source": [
    "# To output pandas profiling report to an external html file.\n",
    "# Saving the output as profiling_after_preprocessing.html\n",
    "\n",
    "profile = pandas_profiling.ProfileReport(usedcar_df_new)\n",
    "profile.to_file(output_file=\"profiling_after_preprocessing.html\")"
   ]
  },
  {
   "cell_type": "code",
   "execution_count": 119,
   "metadata": {},
   "outputs": [
    {
     "data": {
      "text/plain": [
       "car             0\n",
       "price           0\n",
       "body            0\n",
       "mileage         0\n",
       "engV            0\n",
       "engType         0\n",
       "registration    0\n",
       "year            0\n",
       "model           0\n",
       "drive           0\n",
       "dtype: int64"
      ]
     },
     "execution_count": 119,
     "metadata": {},
     "output_type": "execute_result"
    }
   ],
   "source": [
    "#Lets check the new count of the null values in the engV\n",
    "\n",
    "usedcar_df_new.isnull().sum()"
   ]
  },
  {
   "cell_type": "code",
   "execution_count": 120,
   "metadata": {
    "scrolled": true
   },
   "outputs": [
    {
     "name": "stdout",
     "output_type": "stream",
     "text": [
      "<class 'pandas.core.frame.DataFrame'>\n",
      "RangeIndex: 8352 entries, 0 to 8351\n",
      "Data columns (total 10 columns):\n",
      " #   Column        Non-Null Count  Dtype  \n",
      "---  ------        --------------  -----  \n",
      " 0   car           8352 non-null   object \n",
      " 1   price         8352 non-null   float64\n",
      " 2   body          8352 non-null   object \n",
      " 3   mileage       8352 non-null   int64  \n",
      " 4   engV          8352 non-null   float64\n",
      " 5   engType       8352 non-null   object \n",
      " 6   registration  8352 non-null   object \n",
      " 7   year          8352 non-null   int64  \n",
      " 8   model         8352 non-null   object \n",
      " 9   drive         8352 non-null   object \n",
      "dtypes: float64(2), int64(2), object(6)\n",
      "memory usage: 652.6+ KB\n"
     ]
    }
   ],
   "source": [
    "usedcar_df_new.info()"
   ]
  },
  {
   "cell_type": "code",
   "execution_count": 121,
   "metadata": {},
   "outputs": [
    {
     "data": {
      "text/html": [
       "<div>\n",
       "<style scoped>\n",
       "    .dataframe tbody tr th:only-of-type {\n",
       "        vertical-align: middle;\n",
       "    }\n",
       "\n",
       "    .dataframe tbody tr th {\n",
       "        vertical-align: top;\n",
       "    }\n",
       "\n",
       "    .dataframe thead th {\n",
       "        text-align: right;\n",
       "    }\n",
       "</style>\n",
       "<table border=\"1\" class=\"dataframe\">\n",
       "  <thead>\n",
       "    <tr style=\"text-align: right;\">\n",
       "      <th></th>\n",
       "      <th>car</th>\n",
       "      <th>price</th>\n",
       "      <th>body</th>\n",
       "      <th>mileage</th>\n",
       "      <th>engV</th>\n",
       "      <th>engType</th>\n",
       "      <th>registration</th>\n",
       "      <th>year</th>\n",
       "      <th>model</th>\n",
       "      <th>drive</th>\n",
       "    </tr>\n",
       "  </thead>\n",
       "  <tbody>\n",
       "    <tr>\n",
       "      <th>count</th>\n",
       "      <td>8352</td>\n",
       "      <td>8352.00</td>\n",
       "      <td>8352</td>\n",
       "      <td>8352.00</td>\n",
       "      <td>8352.00</td>\n",
       "      <td>8352</td>\n",
       "      <td>8352</td>\n",
       "      <td>8352.00</td>\n",
       "      <td>8352</td>\n",
       "      <td>8352</td>\n",
       "    </tr>\n",
       "    <tr>\n",
       "      <th>unique</th>\n",
       "      <td>83</td>\n",
       "      <td>nan</td>\n",
       "      <td>6</td>\n",
       "      <td>nan</td>\n",
       "      <td>nan</td>\n",
       "      <td>4</td>\n",
       "      <td>2</td>\n",
       "      <td>nan</td>\n",
       "      <td>843</td>\n",
       "      <td>3</td>\n",
       "    </tr>\n",
       "    <tr>\n",
       "      <th>top</th>\n",
       "      <td>Volkswagen</td>\n",
       "      <td>nan</td>\n",
       "      <td>sedan</td>\n",
       "      <td>nan</td>\n",
       "      <td>nan</td>\n",
       "      <td>Petrol</td>\n",
       "      <td>yes</td>\n",
       "      <td>nan</td>\n",
       "      <td>E-Class</td>\n",
       "      <td>front</td>\n",
       "    </tr>\n",
       "    <tr>\n",
       "      <th>freq</th>\n",
       "      <td>822</td>\n",
       "      <td>nan</td>\n",
       "      <td>3215</td>\n",
       "      <td>nan</td>\n",
       "      <td>nan</td>\n",
       "      <td>3924</td>\n",
       "      <td>7863</td>\n",
       "      <td>nan</td>\n",
       "      <td>171</td>\n",
       "      <td>4845</td>\n",
       "    </tr>\n",
       "    <tr>\n",
       "      <th>mean</th>\n",
       "      <td>NaN</td>\n",
       "      <td>15829.36</td>\n",
       "      <td>NaN</td>\n",
       "      <td>142.36</td>\n",
       "      <td>2.22</td>\n",
       "      <td>NaN</td>\n",
       "      <td>NaN</td>\n",
       "      <td>2006.48</td>\n",
       "      <td>NaN</td>\n",
       "      <td>NaN</td>\n",
       "    </tr>\n",
       "    <tr>\n",
       "      <th>std</th>\n",
       "      <td>NaN</td>\n",
       "      <td>23336.05</td>\n",
       "      <td>NaN</td>\n",
       "      <td>97.34</td>\n",
       "      <td>0.95</td>\n",
       "      <td>NaN</td>\n",
       "      <td>NaN</td>\n",
       "      <td>6.88</td>\n",
       "      <td>NaN</td>\n",
       "      <td>NaN</td>\n",
       "    </tr>\n",
       "    <tr>\n",
       "      <th>min</th>\n",
       "      <td>NaN</td>\n",
       "      <td>259.35</td>\n",
       "      <td>NaN</td>\n",
       "      <td>0.00</td>\n",
       "      <td>0.10</td>\n",
       "      <td>NaN</td>\n",
       "      <td>NaN</td>\n",
       "      <td>1959.00</td>\n",
       "      <td>NaN</td>\n",
       "      <td>NaN</td>\n",
       "    </tr>\n",
       "    <tr>\n",
       "      <th>25%</th>\n",
       "      <td>NaN</td>\n",
       "      <td>5448.50</td>\n",
       "      <td>NaN</td>\n",
       "      <td>75.00</td>\n",
       "      <td>1.60</td>\n",
       "      <td>NaN</td>\n",
       "      <td>NaN</td>\n",
       "      <td>2004.00</td>\n",
       "      <td>NaN</td>\n",
       "      <td>NaN</td>\n",
       "    </tr>\n",
       "    <tr>\n",
       "      <th>50%</th>\n",
       "      <td>NaN</td>\n",
       "      <td>9500.00</td>\n",
       "      <td>NaN</td>\n",
       "      <td>130.00</td>\n",
       "      <td>2.00</td>\n",
       "      <td>NaN</td>\n",
       "      <td>NaN</td>\n",
       "      <td>2008.00</td>\n",
       "      <td>NaN</td>\n",
       "      <td>NaN</td>\n",
       "    </tr>\n",
       "    <tr>\n",
       "      <th>75%</th>\n",
       "      <td>NaN</td>\n",
       "      <td>16999.00</td>\n",
       "      <td>NaN</td>\n",
       "      <td>198.00</td>\n",
       "      <td>2.50</td>\n",
       "      <td>NaN</td>\n",
       "      <td>NaN</td>\n",
       "      <td>2011.00</td>\n",
       "      <td>NaN</td>\n",
       "      <td>NaN</td>\n",
       "    </tr>\n",
       "    <tr>\n",
       "      <th>max</th>\n",
       "      <td>NaN</td>\n",
       "      <td>547800.00</td>\n",
       "      <td>NaN</td>\n",
       "      <td>999.00</td>\n",
       "      <td>6.75</td>\n",
       "      <td>NaN</td>\n",
       "      <td>NaN</td>\n",
       "      <td>2016.00</td>\n",
       "      <td>NaN</td>\n",
       "      <td>NaN</td>\n",
       "    </tr>\n",
       "  </tbody>\n",
       "</table>\n",
       "</div>"
      ],
      "text/plain": [
       "               car     price   body  mileage    engV engType registration  \\\n",
       "count         8352   8352.00   8352  8352.00 8352.00    8352         8352   \n",
       "unique          83       nan      6      nan     nan       4            2   \n",
       "top     Volkswagen       nan  sedan      nan     nan  Petrol          yes   \n",
       "freq           822       nan   3215      nan     nan    3924         7863   \n",
       "mean           NaN  15829.36    NaN   142.36    2.22     NaN          NaN   \n",
       "std            NaN  23336.05    NaN    97.34    0.95     NaN          NaN   \n",
       "min            NaN    259.35    NaN     0.00    0.10     NaN          NaN   \n",
       "25%            NaN   5448.50    NaN    75.00    1.60     NaN          NaN   \n",
       "50%            NaN   9500.00    NaN   130.00    2.00     NaN          NaN   \n",
       "75%            NaN  16999.00    NaN   198.00    2.50     NaN          NaN   \n",
       "max            NaN 547800.00    NaN   999.00    6.75     NaN          NaN   \n",
       "\n",
       "          year    model  drive  \n",
       "count  8352.00     8352   8352  \n",
       "unique     nan      843      3  \n",
       "top        nan  E-Class  front  \n",
       "freq       nan      171   4845  \n",
       "mean   2006.48      NaN    NaN  \n",
       "std       6.88      NaN    NaN  \n",
       "min    1959.00      NaN    NaN  \n",
       "25%    2004.00      NaN    NaN  \n",
       "50%    2008.00      NaN    NaN  \n",
       "75%    2011.00      NaN    NaN  \n",
       "max    2016.00      NaN    NaN  "
      ]
     },
     "execution_count": 121,
     "metadata": {},
     "output_type": "execute_result"
    }
   ],
   "source": [
    "usedcar_df_new.describe(include = 'all')"
   ]
  },
  {
   "cell_type": "markdown",
   "metadata": {},
   "source": [
    "We have processed the data. Now the dataset doesnot contain missing values.\n",
    "\n",
    "The pandas profiling report which we have generated after preprocessing will give us more beneficial insights. \n",
    "In profiling_after_preprocessing.html report, observations:\n",
    "\n",
    "In the Dataset info, \n",
    "- Number of observations - 8352\n",
    "- Total Missing(%) = 0.0%\n",
    "- Number of variables = 10\n",
    "- engV data is more realistic\n",
    "- Price data do not have any zero values"
   ]
  },
  {
   "cell_type": "markdown",
   "metadata": {
    "colab_type": "text",
    "id": "taDvvLa9q-5p"
   },
   "source": [
    "---\n",
    "<a name = Section8></a>\n",
    "# **8. Exploratory Data Analysis**\n",
    "---"
   ]
  },
  {
   "cell_type": "markdown",
   "metadata": {},
   "source": [
    "<a name = Section81></a>\n",
    "## **8.1 Correlation of Variables**"
   ]
  },
  {
   "cell_type": "code",
   "execution_count": 122,
   "metadata": {},
   "outputs": [
    {
     "data": {
      "image/png": "[encoded data removed]",
      "text/plain": [
       "<Figure size 576x576 with 2 Axes>"
      ]
     },
     "metadata": {},
     "output_type": "display_data"
    }
   ],
   "source": [
    "features_correlation = usedcar_df_new.corr()\n",
    "plt.figure(figsize=(8,8))\n",
    "sns.heatmap(features_correlation,vmax=1,square=True,annot=False,cmap='Blues')\n",
    "plt.show()"
   ]
  },
  {
   "cell_type": "code",
   "execution_count": 123,
   "metadata": {},
   "outputs": [
    {
     "data": {
      "text/html": [
       "<div>\n",
       "<style scoped>\n",
       "    .dataframe tbody tr th:only-of-type {\n",
       "        vertical-align: middle;\n",
       "    }\n",
       "\n",
       "    .dataframe tbody tr th {\n",
       "        vertical-align: top;\n",
       "    }\n",
       "\n",
       "    .dataframe thead th {\n",
       "        text-align: right;\n",
       "    }\n",
       "</style>\n",
       "<table border=\"1\" class=\"dataframe\">\n",
       "  <thead>\n",
       "    <tr style=\"text-align: right;\">\n",
       "      <th></th>\n",
       "      <th>car</th>\n",
       "      <th>price</th>\n",
       "      <th>body</th>\n",
       "      <th>mileage</th>\n",
       "      <th>engV</th>\n",
       "      <th>engType</th>\n",
       "      <th>registration</th>\n",
       "      <th>year</th>\n",
       "      <th>model</th>\n",
       "      <th>drive</th>\n",
       "    </tr>\n",
       "  </thead>\n",
       "  <tbody>\n",
       "    <tr>\n",
       "      <th>0</th>\n",
       "      <td>Ford</td>\n",
       "      <td>15500.00</td>\n",
       "      <td>crossover</td>\n",
       "      <td>68</td>\n",
       "      <td>2.50</td>\n",
       "      <td>Gas</td>\n",
       "      <td>yes</td>\n",
       "      <td>2010</td>\n",
       "      <td>Kuga</td>\n",
       "      <td>full</td>\n",
       "    </tr>\n",
       "    <tr>\n",
       "      <th>1</th>\n",
       "      <td>Mercedes-Benz</td>\n",
       "      <td>20500.00</td>\n",
       "      <td>sedan</td>\n",
       "      <td>173</td>\n",
       "      <td>1.80</td>\n",
       "      <td>Gas</td>\n",
       "      <td>yes</td>\n",
       "      <td>2011</td>\n",
       "      <td>E-Class</td>\n",
       "      <td>rear</td>\n",
       "    </tr>\n",
       "    <tr>\n",
       "      <th>2</th>\n",
       "      <td>Mercedes-Benz</td>\n",
       "      <td>35000.00</td>\n",
       "      <td>other</td>\n",
       "      <td>135</td>\n",
       "      <td>5.50</td>\n",
       "      <td>Petrol</td>\n",
       "      <td>yes</td>\n",
       "      <td>2008</td>\n",
       "      <td>CL 550</td>\n",
       "      <td>rear</td>\n",
       "    </tr>\n",
       "    <tr>\n",
       "      <th>3</th>\n",
       "      <td>Mercedes-Benz</td>\n",
       "      <td>17800.00</td>\n",
       "      <td>van</td>\n",
       "      <td>162</td>\n",
       "      <td>1.80</td>\n",
       "      <td>Diesel</td>\n",
       "      <td>yes</td>\n",
       "      <td>2012</td>\n",
       "      <td>B 180</td>\n",
       "      <td>front</td>\n",
       "    </tr>\n",
       "    <tr>\n",
       "      <th>4</th>\n",
       "      <td>Nissan</td>\n",
       "      <td>16600.00</td>\n",
       "      <td>crossover</td>\n",
       "      <td>83</td>\n",
       "      <td>2.00</td>\n",
       "      <td>Petrol</td>\n",
       "      <td>yes</td>\n",
       "      <td>2013</td>\n",
       "      <td>X-Trail</td>\n",
       "      <td>full</td>\n",
       "    </tr>\n",
       "  </tbody>\n",
       "</table>\n",
       "</div>"
      ],
      "text/plain": [
       "             car    price       body  mileage  engV engType registration  \\\n",
       "0           Ford 15500.00  crossover       68  2.50     Gas          yes   \n",
       "1  Mercedes-Benz 20500.00      sedan      173  1.80     Gas          yes   \n",
       "2  Mercedes-Benz 35000.00      other      135  5.50  Petrol          yes   \n",
       "3  Mercedes-Benz 17800.00        van      162  1.80  Diesel          yes   \n",
       "4         Nissan 16600.00  crossover       83  2.00  Petrol          yes   \n",
       "\n",
       "   year    model  drive  \n",
       "0  2010     Kuga   full  \n",
       "1  2011  E-Class   rear  \n",
       "2  2008   CL 550   rear  \n",
       "3  2012    B 180  front  \n",
       "4  2013  X-Trail   full  "
      ]
     },
     "execution_count": 123,
     "metadata": {},
     "output_type": "execute_result"
    }
   ],
   "source": [
    "df_new = usedcar_df_new.copy(deep=True)\n",
    "df_new.head()"
   ]
  },
  {
   "cell_type": "code",
   "execution_count": 124,
   "metadata": {},
   "outputs": [],
   "source": [
    "from sklearn.preprocessing import LabelEncoder                                    # Label encoder is used to transform non-numerical labels to numerical labels.\n",
    "number = LabelEncoder()                                                           # Here as our data set consists only of categorical values except age\n",
    "for i in df_new.columns:                                                          # in order to find the correlation between variables, we do Label encoding \n",
    "    df_new[i] = number.fit_transform(df_new[i].astype('str'))"
   ]
  },
  {
   "cell_type": "code",
   "execution_count": 125,
   "metadata": {},
   "outputs": [
    {
     "data": {
      "text/html": [
       "<div>\n",
       "<style scoped>\n",
       "    .dataframe tbody tr th:only-of-type {\n",
       "        vertical-align: middle;\n",
       "    }\n",
       "\n",
       "    .dataframe tbody tr th {\n",
       "        vertical-align: top;\n",
       "    }\n",
       "\n",
       "    .dataframe thead th {\n",
       "        text-align: right;\n",
       "    }\n",
       "</style>\n",
       "<table border=\"1\" class=\"dataframe\">\n",
       "  <thead>\n",
       "    <tr style=\"text-align: right;\">\n",
       "      <th></th>\n",
       "      <th>car</th>\n",
       "      <th>price</th>\n",
       "      <th>body</th>\n",
       "      <th>mileage</th>\n",
       "      <th>engV</th>\n",
       "      <th>engType</th>\n",
       "      <th>registration</th>\n",
       "      <th>year</th>\n",
       "      <th>model</th>\n",
       "      <th>drive</th>\n",
       "    </tr>\n",
       "  </thead>\n",
       "  <tbody>\n",
       "    <tr>\n",
       "      <th>0</th>\n",
       "      <td>23</td>\n",
       "      <td>282</td>\n",
       "      <td>0</td>\n",
       "      <td>390</td>\n",
       "      <td>45</td>\n",
       "      <td>1</td>\n",
       "      <td>1</td>\n",
       "      <td>43</td>\n",
       "      <td>466</td>\n",
       "      <td>1</td>\n",
       "    </tr>\n",
       "    <tr>\n",
       "      <th>1</th>\n",
       "      <td>50</td>\n",
       "      <td>458</td>\n",
       "      <td>3</td>\n",
       "      <td>83</td>\n",
       "      <td>30</td>\n",
       "      <td>1</td>\n",
       "      <td>1</td>\n",
       "      <td>44</td>\n",
       "      <td>316</td>\n",
       "      <td>2</td>\n",
       "    </tr>\n",
       "    <tr>\n",
       "      <th>2</th>\n",
       "      <td>50</td>\n",
       "      <td>744</td>\n",
       "      <td>2</td>\n",
       "      <td>41</td>\n",
       "      <td>77</td>\n",
       "      <td>3</td>\n",
       "      <td>1</td>\n",
       "      <td>41</td>\n",
       "      <td>226</td>\n",
       "      <td>2</td>\n",
       "    </tr>\n",
       "    <tr>\n",
       "      <th>3</th>\n",
       "      <td>50</td>\n",
       "      <td>367</td>\n",
       "      <td>5</td>\n",
       "      <td>71</td>\n",
       "      <td>30</td>\n",
       "      <td>0</td>\n",
       "      <td>1</td>\n",
       "      <td>45</td>\n",
       "      <td>194</td>\n",
       "      <td>0</td>\n",
       "    </tr>\n",
       "    <tr>\n",
       "      <th>4</th>\n",
       "      <td>55</td>\n",
       "      <td>326</td>\n",
       "      <td>0</td>\n",
       "      <td>411</td>\n",
       "      <td>33</td>\n",
       "      <td>3</td>\n",
       "      <td>1</td>\n",
       "      <td>46</td>\n",
       "      <td>809</td>\n",
       "      <td>1</td>\n",
       "    </tr>\n",
       "  </tbody>\n",
       "</table>\n",
       "</div>"
      ],
      "text/plain": [
       "   car  price  body  mileage  engV  engType  registration  year  model  drive\n",
       "0   23    282     0      390    45        1             1    43    466      1\n",
       "1   50    458     3       83    30        1             1    44    316      2\n",
       "2   50    744     2       41    77        3             1    41    226      2\n",
       "3   50    367     5       71    30        0             1    45    194      0\n",
       "4   55    326     0      411    33        3             1    46    809      1"
      ]
     },
     "execution_count": 125,
     "metadata": {},
     "output_type": "execute_result"
    }
   ],
   "source": [
    "df_new.head(5)"
   ]
  },
  {
   "cell_type": "code",
   "execution_count": 126,
   "metadata": {
    "colab": {},
    "colab_type": "code",
    "id": "fwWa_FPerGCB"
   },
   "outputs": [
    {
     "data": {
      "image/png": "[encoded data removed]",
      "text/plain": [
       "<Figure size 1008x648 with 2 Axes>"
      ]
     },
     "metadata": {},
     "output_type": "display_data"
    }
   ],
   "source": [
    "features_correlation2 = df_new.corr()\n",
    "plt.figure(figsize=(14,9))\n",
    "sns.heatmap(features_correlation2,vmax=1,square=True,annot=True,cmap=\"YlGnBu\")\n",
    "plt.show()"
   ]
  },
  {
   "cell_type": "markdown",
   "metadata": {},
   "source": [
    "- The strongest correlation is between the Engine Volume and Drive.\n",
    "\n",
    "**Rest of the data might be misleading since there is high cardinality in the data and Label encoding would have its limitations in such cases**\n",
    "\n",
    "- This correlation analysis is done to provide a start point to analyse relationships between different features"
   ]
  },
  {
   "cell_type": "code",
   "execution_count": 127,
   "metadata": {},
   "outputs": [
    {
     "data": {
      "text/plain": [
       "price           1.00\n",
       "body            0.11\n",
       "registration    0.02\n",
       "mileage         0.01\n",
       "engType        -0.02\n",
       "model          -0.03\n",
       "year           -0.05\n",
       "car            -0.07\n",
       "drive          -0.09\n",
       "engV           -0.11\n",
       "Name: price, dtype: float64"
      ]
     },
     "execution_count": 127,
     "metadata": {},
     "output_type": "execute_result"
    }
   ],
   "source": [
    "corr=df_new.corr()['price']\n",
    "corr[np.argsort(corr,axis=0)[::-1]]"
   ]
  },
  {
   "cell_type": "markdown",
   "metadata": {},
   "source": [
    "- Price of the car has the highest correlation with body type and folowed by mileage/ odometer reading."
   ]
  },
  {
   "cell_type": "markdown",
   "metadata": {},
   "source": [
    "<a name = Section82></a>\n",
    "## **8.2 Analysis through Questions**"
   ]
  },
  {
   "cell_type": "markdown",
   "metadata": {},
   "source": [
    "<a name = Section821></a>\n",
    "### **8.2.1 Which are the top 20 Car brands**"
   ]
  },
  {
   "cell_type": "code",
   "execution_count": 295,
   "metadata": {
    "scrolled": false
   },
   "outputs": [
    {
     "data": {
      "image/png": "[encoded data removed]",
      "text/plain": [
       "<Figure size 1080x432 with 1 Axes>"
      ]
     },
     "metadata": {},
     "output_type": "display_data"
    }
   ],
   "source": [
    "# Let us look at the top 10 most preferred brands.\n",
    "\n",
    "usedcar_df['car'].value_counts(ascending = False)[0:19].plot.bar( figsize=(15,6), fontsize=13, color = 'm')\n",
    "plt.xlabel('Car Brand')\n",
    "plt.ylabel('Number of Cars sold')\n",
    "plt.title(\"Top 10 Car Brands sold\")\n",
    "plt.show()"
   ]
  },
  {
   "cell_type": "markdown",
   "metadata": {},
   "source": [
    "- Volkswagen and Mercedes Benz are the top most selling Car brands.\n",
    "- Another very important observation is that the Premium cars form a substantial percentage of the used car sales. This would mean that it is more affordable when compared to buying new cars."
   ]
  },
  {
   "cell_type": "markdown",
   "metadata": {},
   "source": [
    "<a name = Section822></a>\n",
    "### **8.2.2 Which are the top 10 car models sold?**"
   ]
  },
  {
   "cell_type": "code",
   "execution_count": 128,
   "metadata": {},
   "outputs": [
    {
     "data": {
      "text/plain": [
       "model                   car          \n",
       "E-Class                 Mercedes-Benz    192\n",
       "A6                      Audi             172\n",
       "Camry                   Toyota           132\n",
       "Vito ïàññ.              Mercedes-Benz    128\n",
       "Lanos                   Daewoo           118\n",
       "X5                      BMW              115\n",
       "Octavia A5              Skoda            108\n",
       "Accord                  Honda             90\n",
       "Megane                  Renault           86\n",
       "Aveo                    Chevrolet         80\n",
       "520                     BMW               76\n",
       "Land Cruiser Prado      Toyota            75\n",
       "Fabia                   Skoda             75\n",
       "Kangoo ïàññ.            Renault           74\n",
       "Kangoo ãðóç.            Renault           72\n",
       "Accent                  Hyundai           68\n",
       "Passat B6               Volkswagen        66\n",
       "Touareg                 Volkswagen        66\n",
       "Tucson                  Hyundai           66\n",
       "Lacetti                 Chevrolet         64\n",
       "6                       Mazda             63\n",
       "Caddy ãðóç.             Volkswagen        63\n",
       "Focus                   Ford              62\n",
       "Range Rover             Land Rover        62\n",
       "Superb                  Skoda             61\n",
       "T5 (Transporter) ïàññ.  Volkswagen        61\n",
       "Polo                    Volkswagen        60\n",
       "Q7                      Audi              59\n",
       "Cayenne                 Porsche           59\n",
       "Leaf                    Nissan            59\n",
       "A4                      Audi              58\n",
       "Passat B5               Volkswagen        58\n",
       "320                     BMW               58\n",
       "Civic                   Honda             56\n",
       "Caddy ïàññ.             Volkswagen        55\n",
       "525                     BMW               54\n",
       "Lancer                  Mitsubishi        54\n",
       "C-Class                 Mercedes-Benz     54\n",
       "Range Rover Sport       Land Rover        54\n",
       "Corolla                 Toyota            54\n",
       "Rav 4                   Toyota            54\n",
       "530                     BMW               52\n",
       "Lancer X                Mitsubishi        52\n",
       "Passat B7               Volkswagen        50\n",
       "Omega                   Opel              50\n",
       "S 500                   Mercedes-Benz     49\n",
       "Fiesta                  Ford              48\n",
       "3                       Mazda             47\n",
       "Qashqai                 Nissan            47\n",
       "Pajero Wagon            Mitsubishi        47\n",
       "Name: car, dtype: int64"
      ]
     },
     "execution_count": 128,
     "metadata": {},
     "output_type": "execute_result"
    }
   ],
   "source": [
    "# For this, we shall use the initial dataframe as there is no null values in the Car and models\n",
    "\n",
    "#Lets look at a list of top 50 car models and plot the top 10 car models\n",
    "\n",
    "usedcar_df.groupby('model')['car'].value_counts().sort_values(ascending=False).head(50)\n"
   ]
  },
  {
   "cell_type": "code",
   "execution_count": 298,
   "metadata": {},
   "outputs": [
    {
     "data": {
      "image/png": "[encoded data removed]",
      "text/plain": [
       "<Figure size 1080x504 with 1 Axes>"
      ]
     },
     "metadata": {},
     "output_type": "display_data"
    }
   ],
   "source": [
    "# Let us visualise the top 20 car models sold\n",
    "\n",
    "usedcar_df.groupby('model')['car'].value_counts().sort_values(ascending=False).head(20).plot.bar(figsize=(15,7), fontsize=13)\n",
    "plt.title(\"Top 20 Car models sold\")\n",
    "plt.ylabel('Number of Cars sold')\n",
    "plt.show()"
   ]
  },
  {
   "cell_type": "markdown",
   "metadata": {},
   "source": [
    "This graph complements the previous observation that the Premium and the A segment cars models are the top car models\n",
    "\n",
    "- **However this observation does not imply that the Premium cars are the most sold type. The Economy cars form a greater percentage of sales numbers compared to the Premium cars numbers.**"
   ]
  },
  {
   "cell_type": "markdown",
   "metadata": {},
   "source": [
    "<a name = Section823></a>\n",
    "### **8.2.3 Distribution of the Vehicles by the year of registration and price trend**"
   ]
  },
  {
   "cell_type": "code",
   "execution_count": 172,
   "metadata": {},
   "outputs": [
    {
     "data": {
      "image/png": "[encoded data removed]",
      "text/plain": [
       "<Figure size 1080x504 with 1 Axes>"
      ]
     },
     "metadata": {},
     "output_type": "display_data"
    }
   ],
   "source": [
    "fig, ax = plt.subplots(figsize=(15,7))\n",
    "sns.distplot(usedcar_df['year'], color = 'indigo', ax=ax)\n",
    "ax.set_title('Distribution of vehicules based on year of registration')\n",
    "plt.ylabel('Density')\n",
    "plt.xlabel('Year of Registration')\n",
    "plt.show()"
   ]
  },
  {
   "cell_type": "markdown",
   "metadata": {},
   "source": [
    "To complement the plot above we can see the frequency of car by years grouped in chunks of 5 years as presented in the table below:"
   ]
  },
  {
   "cell_type": "code",
   "execution_count": 131,
   "metadata": {},
   "outputs": [
    {
     "name": "stdout",
     "output_type": "stream",
     "text": [
      "YEAR INTERVAL\tFREQUENCY\n",
      "(1950, 1955]       1\n",
      "(1955, 1960]       2\n",
      "(1960, 1965]       7\n",
      "(1965, 1970]       5\n",
      "(1970, 1975]       7\n",
      "(1975, 1980]      36\n",
      "(1980, 1985]      68\n",
      "(1985, 1990]     262\n",
      "(1990, 1995]     346\n",
      "(1995, 2000]     790\n",
      "(2000, 2005]    1467\n",
      "(2005, 2010]    3371\n",
      "(2010, 2015]    2686\n",
      "(2015, 2020]     415\n",
      "Name: year, dtype: int64\n"
     ]
    }
   ],
   "source": [
    "bins = list(range(1950,2021,5))\n",
    "out = pd.cut(usedcar_df['year'], bins=bins)\n",
    "counts = pd.value_counts(out).sort_index()\n",
    "\n",
    "print('YEAR INTERVAL\\tFREQUENCY')\n",
    "print(counts)"
   ]
  },
  {
   "cell_type": "markdown",
   "metadata": {},
   "source": [
    "- It is observed that most of the used cars sold are of registration between 2005 to 2010. This shows that the customers mostly prefer cars which are around 10 or less years old"
   ]
  },
  {
   "cell_type": "markdown",
   "metadata": {},
   "source": [
    "<a name = Section824></a>\n",
    "###  **8.2.4 Price trend of various car body types over the years**"
   ]
  },
  {
   "cell_type": "code",
   "execution_count": 180,
   "metadata": {},
   "outputs": [
    {
     "data": {
      "image/png": "[encoded data removed]",
      "text/plain": [
       "<Figure size 1080x576 with 1 Axes>"
      ]
     },
     "metadata": {},
     "output_type": "display_data"
    }
   ],
   "source": [
    "fig, ax = plt.subplots()\n",
    "fig.set_size_inches(15,8)\n",
    "sns.lineplot(data = usedcar_df_new, x = 'year', y = 'price', hue = 'body', ax = ax)\n",
    "ax.set_title('Price trend of the cars over the years')\n",
    "plt.ylabel('Price of Car')\n",
    "plt.xlabel('Year of Registration')\n",
    "plt.show()"
   ]
  },
  {
   "cell_type": "markdown",
   "metadata": {},
   "source": [
    "Below are the observations\n",
    "- the overall price trend shows that the newer cars are more expensive\n",
    "- the price of the sedan cars shows a gradual price hike.\n",
    "- Crossover and other (Ex- Supercars) body types shows a steep hike in the price signifying its demand"
   ]
  },
  {
   "cell_type": "markdown",
   "metadata": {},
   "source": [
    "<a name = Section825></a>\n",
    "### **8.2.5 List of 10 most expensive and least expensive cars sold**"
   ]
  },
  {
   "cell_type": "code",
   "execution_count": 132,
   "metadata": {},
   "outputs": [
    {
     "data": {
      "text/html": [
       "<div>\n",
       "<style scoped>\n",
       "    .dataframe tbody tr th:only-of-type {\n",
       "        vertical-align: middle;\n",
       "    }\n",
       "\n",
       "    .dataframe tbody tr th {\n",
       "        vertical-align: top;\n",
       "    }\n",
       "\n",
       "    .dataframe thead th {\n",
       "        text-align: right;\n",
       "    }\n",
       "</style>\n",
       "<table border=\"1\" class=\"dataframe\">\n",
       "  <thead>\n",
       "    <tr style=\"text-align: right;\">\n",
       "      <th></th>\n",
       "      <th>car</th>\n",
       "      <th>price</th>\n",
       "      <th>body</th>\n",
       "      <th>mileage</th>\n",
       "      <th>engV</th>\n",
       "      <th>engType</th>\n",
       "      <th>registration</th>\n",
       "      <th>year</th>\n",
       "      <th>model</th>\n",
       "      <th>drive</th>\n",
       "    </tr>\n",
       "  </thead>\n",
       "  <tbody>\n",
       "    <tr>\n",
       "      <th>6611</th>\n",
       "      <td>Bentley</td>\n",
       "      <td>547800.00</td>\n",
       "      <td>sedan</td>\n",
       "      <td>0</td>\n",
       "      <td>6.75</td>\n",
       "      <td>Petrol</td>\n",
       "      <td>yes</td>\n",
       "      <td>2016</td>\n",
       "      <td>Mulsanne</td>\n",
       "      <td>rear</td>\n",
       "    </tr>\n",
       "    <tr>\n",
       "      <th>1364</th>\n",
       "      <td>Bentley</td>\n",
       "      <td>499999.00</td>\n",
       "      <td>crossover</td>\n",
       "      <td>0</td>\n",
       "      <td>6.00</td>\n",
       "      <td>Petrol</td>\n",
       "      <td>yes</td>\n",
       "      <td>2016</td>\n",
       "      <td>Bentayga</td>\n",
       "      <td>full</td>\n",
       "    </tr>\n",
       "    <tr>\n",
       "      <th>3561</th>\n",
       "      <td>Bentley</td>\n",
       "      <td>449999.00</td>\n",
       "      <td>crossover</td>\n",
       "      <td>0</td>\n",
       "      <td>6.00</td>\n",
       "      <td>Petrol</td>\n",
       "      <td>yes</td>\n",
       "      <td>2016</td>\n",
       "      <td>Bentayga</td>\n",
       "      <td>full</td>\n",
       "    </tr>\n",
       "    <tr>\n",
       "      <th>5060</th>\n",
       "      <td>Mercedes-Benz</td>\n",
       "      <td>300000.00</td>\n",
       "      <td>other</td>\n",
       "      <td>37</td>\n",
       "      <td>5.00</td>\n",
       "      <td>Petrol</td>\n",
       "      <td>yes</td>\n",
       "      <td>2012</td>\n",
       "      <td>G 500</td>\n",
       "      <td>full</td>\n",
       "    </tr>\n",
       "    <tr>\n",
       "      <th>1618</th>\n",
       "      <td>Mercedes-Benz</td>\n",
       "      <td>295000.00</td>\n",
       "      <td>sedan</td>\n",
       "      <td>29</td>\n",
       "      <td>6.00</td>\n",
       "      <td>Petrol</td>\n",
       "      <td>yes</td>\n",
       "      <td>2011</td>\n",
       "      <td>S 600</td>\n",
       "      <td>rear</td>\n",
       "    </tr>\n",
       "    <tr>\n",
       "      <th>1853</th>\n",
       "      <td>Mercedes-Benz</td>\n",
       "      <td>295000.00</td>\n",
       "      <td>sedan</td>\n",
       "      <td>29</td>\n",
       "      <td>6.00</td>\n",
       "      <td>Petrol</td>\n",
       "      <td>yes</td>\n",
       "      <td>2011</td>\n",
       "      <td>S-Guard</td>\n",
       "      <td>rear</td>\n",
       "    </tr>\n",
       "    <tr>\n",
       "      <th>7142</th>\n",
       "      <td>Land Rover</td>\n",
       "      <td>285000.00</td>\n",
       "      <td>crossover</td>\n",
       "      <td>0</td>\n",
       "      <td>5.00</td>\n",
       "      <td>Petrol</td>\n",
       "      <td>yes</td>\n",
       "      <td>2016</td>\n",
       "      <td>Range Rover</td>\n",
       "      <td>full</td>\n",
       "    </tr>\n",
       "    <tr>\n",
       "      <th>1244</th>\n",
       "      <td>Bentley</td>\n",
       "      <td>259000.00</td>\n",
       "      <td>sedan</td>\n",
       "      <td>0</td>\n",
       "      <td>6.00</td>\n",
       "      <td>Petrol</td>\n",
       "      <td>yes</td>\n",
       "      <td>2014</td>\n",
       "      <td>Flying Spur</td>\n",
       "      <td>full</td>\n",
       "    </tr>\n",
       "    <tr>\n",
       "      <th>455</th>\n",
       "      <td>Mercedes-Benz</td>\n",
       "      <td>250000.00</td>\n",
       "      <td>other</td>\n",
       "      <td>6</td>\n",
       "      <td>5.50</td>\n",
       "      <td>Petrol</td>\n",
       "      <td>yes</td>\n",
       "      <td>2016</td>\n",
       "      <td>S 63 AMG</td>\n",
       "      <td>full</td>\n",
       "    </tr>\n",
       "    <tr>\n",
       "      <th>457</th>\n",
       "      <td>Mercedes-Benz</td>\n",
       "      <td>249999.00</td>\n",
       "      <td>other</td>\n",
       "      <td>3</td>\n",
       "      <td>5.50</td>\n",
       "      <td>Petrol</td>\n",
       "      <td>yes</td>\n",
       "      <td>2016</td>\n",
       "      <td>S 63 AMG</td>\n",
       "      <td>full</td>\n",
       "    </tr>\n",
       "  </tbody>\n",
       "</table>\n",
       "</div>"
      ],
      "text/plain": [
       "                car     price       body  mileage  engV engType registration  \\\n",
       "6611        Bentley 547800.00      sedan        0  6.75  Petrol          yes   \n",
       "1364        Bentley 499999.00  crossover        0  6.00  Petrol          yes   \n",
       "3561        Bentley 449999.00  crossover        0  6.00  Petrol          yes   \n",
       "5060  Mercedes-Benz 300000.00      other       37  5.00  Petrol          yes   \n",
       "1618  Mercedes-Benz 295000.00      sedan       29  6.00  Petrol          yes   \n",
       "1853  Mercedes-Benz 295000.00      sedan       29  6.00  Petrol          yes   \n",
       "7142     Land Rover 285000.00  crossover        0  5.00  Petrol          yes   \n",
       "1244        Bentley 259000.00      sedan        0  6.00  Petrol          yes   \n",
       "455   Mercedes-Benz 250000.00      other        6  5.50  Petrol          yes   \n",
       "457   Mercedes-Benz 249999.00      other        3  5.50  Petrol          yes   \n",
       "\n",
       "      year        model drive  \n",
       "6611  2016     Mulsanne  rear  \n",
       "1364  2016     Bentayga  full  \n",
       "3561  2016     Bentayga  full  \n",
       "5060  2012        G 500  full  \n",
       "1618  2011        S 600  rear  \n",
       "1853  2011      S-Guard  rear  \n",
       "7142  2016  Range Rover  full  \n",
       "1244  2014  Flying Spur  full  \n",
       "455   2016     S 63 AMG  full  \n",
       "457   2016     S 63 AMG  full  "
      ]
     },
     "execution_count": 132,
     "metadata": {},
     "output_type": "execute_result"
    }
   ],
   "source": [
    "usedcar_df_new[usedcar_df_new['price'].isin(usedcar_df_new['price'].nlargest(10))].sort_values(['price'], ascending = False)"
   ]
  },
  {
   "cell_type": "code",
   "execution_count": 133,
   "metadata": {},
   "outputs": [
    {
     "data": {
      "text/html": [
       "<div>\n",
       "<style scoped>\n",
       "    .dataframe tbody tr th:only-of-type {\n",
       "        vertical-align: middle;\n",
       "    }\n",
       "\n",
       "    .dataframe tbody tr th {\n",
       "        vertical-align: top;\n",
       "    }\n",
       "\n",
       "    .dataframe thead th {\n",
       "        text-align: right;\n",
       "    }\n",
       "</style>\n",
       "<table border=\"1\" class=\"dataframe\">\n",
       "  <thead>\n",
       "    <tr style=\"text-align: right;\">\n",
       "      <th></th>\n",
       "      <th>car</th>\n",
       "      <th>price</th>\n",
       "      <th>body</th>\n",
       "      <th>mileage</th>\n",
       "      <th>engV</th>\n",
       "      <th>engType</th>\n",
       "      <th>registration</th>\n",
       "      <th>year</th>\n",
       "      <th>model</th>\n",
       "      <th>drive</th>\n",
       "    </tr>\n",
       "  </thead>\n",
       "  <tbody>\n",
       "    <tr>\n",
       "      <th>4334</th>\n",
       "      <td>GAZ</td>\n",
       "      <td>259.35</td>\n",
       "      <td>sedan</td>\n",
       "      <td>1</td>\n",
       "      <td>2.40</td>\n",
       "      <td>Other</td>\n",
       "      <td>yes</td>\n",
       "      <td>1959</td>\n",
       "      <td>21</td>\n",
       "      <td>rear</td>\n",
       "    </tr>\n",
       "    <tr>\n",
       "      <th>5597</th>\n",
       "      <td>Moskvich-AZLK</td>\n",
       "      <td>280.00</td>\n",
       "      <td>sedan</td>\n",
       "      <td>99</td>\n",
       "      <td>1.50</td>\n",
       "      <td>Petrol</td>\n",
       "      <td>yes</td>\n",
       "      <td>1976</td>\n",
       "      <td>2140</td>\n",
       "      <td>rear</td>\n",
       "    </tr>\n",
       "    <tr>\n",
       "      <th>7184</th>\n",
       "      <td>ZAZ</td>\n",
       "      <td>370.50</td>\n",
       "      <td>sedan</td>\n",
       "      <td>3</td>\n",
       "      <td>1.10</td>\n",
       "      <td>Petrol</td>\n",
       "      <td>yes</td>\n",
       "      <td>1989</td>\n",
       "      <td>968</td>\n",
       "      <td>rear</td>\n",
       "    </tr>\n",
       "    <tr>\n",
       "      <th>7608</th>\n",
       "      <td>VAZ</td>\n",
       "      <td>400.00</td>\n",
       "      <td>sedan</td>\n",
       "      <td>10</td>\n",
       "      <td>1.10</td>\n",
       "      <td>Petrol</td>\n",
       "      <td>yes</td>\n",
       "      <td>1982</td>\n",
       "      <td>2101</td>\n",
       "      <td>rear</td>\n",
       "    </tr>\n",
       "    <tr>\n",
       "      <th>7359</th>\n",
       "      <td>VAZ</td>\n",
       "      <td>463.12</td>\n",
       "      <td>sedan</td>\n",
       "      <td>10</td>\n",
       "      <td>1.30</td>\n",
       "      <td>Petrol</td>\n",
       "      <td>yes</td>\n",
       "      <td>1979</td>\n",
       "      <td>2101</td>\n",
       "      <td>rear</td>\n",
       "    </tr>\n",
       "    <tr>\n",
       "      <th>7921</th>\n",
       "      <td>VAZ</td>\n",
       "      <td>463.12</td>\n",
       "      <td>sedan</td>\n",
       "      <td>68</td>\n",
       "      <td>1.20</td>\n",
       "      <td>Petrol</td>\n",
       "      <td>yes</td>\n",
       "      <td>1984</td>\n",
       "      <td>2101</td>\n",
       "      <td>rear</td>\n",
       "    </tr>\n",
       "    <tr>\n",
       "      <th>7812</th>\n",
       "      <td>Opel</td>\n",
       "      <td>499.00</td>\n",
       "      <td>sedan</td>\n",
       "      <td>230</td>\n",
       "      <td>1.60</td>\n",
       "      <td>Petrol</td>\n",
       "      <td>no</td>\n",
       "      <td>1996</td>\n",
       "      <td>Vectra B</td>\n",
       "      <td>front</td>\n",
       "    </tr>\n",
       "    <tr>\n",
       "      <th>5567</th>\n",
       "      <td>GAZ</td>\n",
       "      <td>500.00</td>\n",
       "      <td>sedan</td>\n",
       "      <td>239</td>\n",
       "      <td>2.00</td>\n",
       "      <td>Other</td>\n",
       "      <td>yes</td>\n",
       "      <td>1961</td>\n",
       "      <td>21</td>\n",
       "      <td>rear</td>\n",
       "    </tr>\n",
       "    <tr>\n",
       "      <th>7234</th>\n",
       "      <td>Opel</td>\n",
       "      <td>500.00</td>\n",
       "      <td>sedan</td>\n",
       "      <td>350</td>\n",
       "      <td>2.00</td>\n",
       "      <td>Petrol</td>\n",
       "      <td>yes</td>\n",
       "      <td>1990</td>\n",
       "      <td>Omega</td>\n",
       "      <td>rear</td>\n",
       "    </tr>\n",
       "    <tr>\n",
       "      <th>8142</th>\n",
       "      <td>Opel</td>\n",
       "      <td>500.00</td>\n",
       "      <td>sedan</td>\n",
       "      <td>200</td>\n",
       "      <td>2.00</td>\n",
       "      <td>Petrol</td>\n",
       "      <td>no</td>\n",
       "      <td>1997</td>\n",
       "      <td>Vectra B</td>\n",
       "      <td>front</td>\n",
       "    </tr>\n",
       "  </tbody>\n",
       "</table>\n",
       "</div>"
      ],
      "text/plain": [
       "                car  price   body  mileage  engV engType registration  year  \\\n",
       "4334            GAZ 259.35  sedan        1  2.40   Other          yes  1959   \n",
       "5597  Moskvich-AZLK 280.00  sedan       99  1.50  Petrol          yes  1976   \n",
       "7184            ZAZ 370.50  sedan        3  1.10  Petrol          yes  1989   \n",
       "7608            VAZ 400.00  sedan       10  1.10  Petrol          yes  1982   \n",
       "7359            VAZ 463.12  sedan       10  1.30  Petrol          yes  1979   \n",
       "7921            VAZ 463.12  sedan       68  1.20  Petrol          yes  1984   \n",
       "7812           Opel 499.00  sedan      230  1.60  Petrol           no  1996   \n",
       "5567            GAZ 500.00  sedan      239  2.00   Other          yes  1961   \n",
       "7234           Opel 500.00  sedan      350  2.00  Petrol          yes  1990   \n",
       "8142           Opel 500.00  sedan      200  2.00  Petrol           no  1997   \n",
       "\n",
       "         model  drive  \n",
       "4334        21   rear  \n",
       "5597      2140   rear  \n",
       "7184       968   rear  \n",
       "7608      2101   rear  \n",
       "7359      2101   rear  \n",
       "7921      2101   rear  \n",
       "7812  Vectra B  front  \n",
       "5567        21   rear  \n",
       "7234     Omega   rear  \n",
       "8142  Vectra B  front  "
      ]
     },
     "execution_count": 133,
     "metadata": {},
     "output_type": "execute_result"
    }
   ],
   "source": [
    "usedcar_df_new[usedcar_df_new['price'].isin(usedcar_df_new['price'].nsmallest(10))].sort_values(['price'])"
   ]
  },
  {
   "cell_type": "markdown",
   "metadata": {},
   "source": [
    "- The most expensive car is Bentley and all the cars belog to the Super Cars\n",
    "- The least expensive car are cars registered few decades ago"
   ]
  },
  {
   "cell_type": "markdown",
   "metadata": {},
   "source": [
    "<a name = Section826></a>\n",
    "### **8.2.6 Relatonship between the Price with Mileage and Engine Volume**"
   ]
  },
  {
   "cell_type": "code",
   "execution_count": 139,
   "metadata": {},
   "outputs": [
    {
     "data": {
      "image/png": "[encoded data removed]",
      "text/plain": [
       "<Figure size 1080x504 with 1 Axes>"
      ]
     },
     "metadata": {},
     "output_type": "display_data"
    }
   ],
   "source": [
    "fig, ax = plt.subplots(figsize=(15,7))\n",
    "sns.scatterplot(data=usedcar_df_new, x=\"price\", y=\"mileage\", color = 'crimson', ax = ax)\n",
    "ax.set_title('Relationship between Mileage and Price')\n",
    "plt.ylabel('Mileage')\n",
    "plt.xlabel('Price of Car')\n",
    "plt.show()"
   ]
  },
  {
   "cell_type": "markdown",
   "metadata": {},
   "source": [
    "- There is a negative correlation of Price with Mileage.\n",
    "- The price of the car reduces based on how much it is used.\n",
    "\n",
    "- Most preffered cars by customers are the ones that are driven less.\n"
   ]
  },
  {
   "cell_type": "code",
   "execution_count": 299,
   "metadata": {},
   "outputs": [
    {
     "data": {
      "image/png": "[encoded data removed]",
      "text/plain": [
       "<Figure size 1080x504 with 1 Axes>"
      ]
     },
     "metadata": {},
     "output_type": "display_data"
    }
   ],
   "source": [
    "fig, ax = plt.subplots(figsize=(15,7))\n",
    "sns.scatterplot(data=usedcar_df_new, x=\"price\", y=\"engV\", color = 'darkcyan', ax = ax)\n",
    "ax.set_title('Relationship between Engine Volume and Price')\n",
    "plt.ylabel('Engine Volume')\n",
    "plt.xlabel('Car Price')\n",
    "plt.show()"
   ]
  },
  {
   "cell_type": "markdown",
   "metadata": {},
   "source": [
    "- There is a positive correlation between the Price and the Engine Volume \n",
    "- A weak correlation is seen in this plot since there are other factors like mileage, year etc which decides the price"
   ]
  },
  {
   "cell_type": "markdown",
   "metadata": {},
   "source": [
    "<a name = Section827></a>\n",
    "### **8.2.7 Most preferred drive by the Customers**"
   ]
  },
  {
   "cell_type": "code",
   "execution_count": 164,
   "metadata": {},
   "outputs": [
    {
     "data": {
      "image/png": "[encoded data removed]",
      "text/plain": [
       "<Figure size 864x360 with 1 Axes>"
      ]
     },
     "metadata": {},
     "output_type": "display_data"
    }
   ],
   "source": [
    "fig, ax = plt.subplots()\n",
    "fig.set_size_inches(12,5)\n",
    "sns.countplot(y='drive', data=usedcar_df_new, orient='h', hue='engType',palette=\"winter\", ax = ax)\n",
    "plt.title(\"Most preferred Drive\")\n",
    "plt.show()"
   ]
  },
  {
   "cell_type": "markdown",
   "metadata": {},
   "source": [
    "- Most of the cars sold are Front wheel drive with Petrol being the preferred Engine type"
   ]
  },
  {
   "cell_type": "markdown",
   "metadata": {},
   "source": [
    "<a name = Section828></a>\n",
    "### **8.2.8 Number of Vehicles sold by type of vehicle**"
   ]
  },
  {
   "cell_type": "code",
   "execution_count": 166,
   "metadata": {},
   "outputs": [
    {
     "data": {
      "image/png": "[encoded data removed]",
      "text/plain": [
       "<Figure size 809.19x360 with 1 Axes>"
      ]
     },
     "metadata": {},
     "output_type": "display_data"
    }
   ],
   "source": [
    "sns.factorplot(data=usedcar_df_new, x='body', kind='count',size=5, aspect=2, palette=\"hot\", hue = 'registration')\n",
    "ax.set_title('Relationship between Mileage and Price')\n",
    "plt.ylabel('No. of Cars sold')\n",
    "plt.xlabel('Car body type')\n",
    "plt.show()"
   ]
  },
  {
   "cell_type": "markdown",
   "metadata": {},
   "source": [
    "- Sedan and Cross over are the most preferred body type"
   ]
  },
  {
   "cell_type": "markdown",
   "metadata": {},
   "source": [
    "<a name = Section829></a>\n",
    "### **8.2.9 Understanding the relationship of Car Drive  with Engine Volume**"
   ]
  },
  {
   "cell_type": "code",
   "execution_count": 181,
   "metadata": {},
   "outputs": [
    {
     "data": {
      "text/plain": [
       "Text(0.5, 1.0, 'Engine Volume Vs Drive')"
      ]
     },
     "execution_count": 181,
     "metadata": {},
     "output_type": "execute_result"
    },
    {
     "data": {
      "image/png": "[encoded data removed]",
      "text/plain": [
       "<Figure size 864x504 with 1 Axes>"
      ]
     },
     "metadata": {},
     "output_type": "display_data"
    }
   ],
   "source": [
    "plt.figure(figsize=(12,7))\n",
    "sns.boxplot(data=usedcar_df_new, x='drive', y='engV', palette='rainbow')\n",
    "\n",
    "plt.title('Engine Volume Vs Drive')"
   ]
  },
  {
   "cell_type": "markdown",
   "metadata": {},
   "source": [
    "- The front wheel drive cars have typilically lesser Engine volume/ capacity.\n",
    "- Most of the full wheel drive cars sold in full wheel drive are of 2 to 4 ltr capacity\n",
    "- Rear Engine drives are have the highest engine volume."
   ]
  },
  {
   "cell_type": "markdown",
   "metadata": {
    "colab_type": "text",
    "id": "Pqk4cV2wrIIZ"
   },
   "source": [
    "---\n",
    "<a name = Section9></a>\n",
    "# **9. Summarization**\n",
    "---"
   ]
  },
  {
   "cell_type": "markdown",
   "metadata": {
    "colab_type": "text",
    "id": "wducAS9QrPfZ"
   },
   "source": [
    "<a name = Section91></a>\n",
    "### **9.1 Conclusion**"
   ]
  },
  {
   "cell_type": "markdown",
   "metadata": {
    "colab": {},
    "colab_type": "code",
    "id": "fKJjmHTktDO5"
   },
   "source": [
    "- Most of the Premium and A segment models are sold since it is more affordable than New condition cars.\n",
    "- Economy cars still play a major role in terms of numbers of cars sold. There are multiple variants, makes and models of the economy cars and hence it gives customers a wide range of options to choose from.\n",
    "- The most recently purchased cars (within 5- 10  years of purchase) are best preferred by customer since there would be least service and maintenance after purchase. This also would mean least driven cars.\n",
    "- Though Sedan cars are the most preferred type, recent trends shows a increased demand for Cross over body types\n",
    "- Petrol and diesel are still the most preferred fuel type."
   ]
  },
  {
   "cell_type": "markdown",
   "metadata": {
    "colab_type": "text",
    "id": "z3MtiiACrVJq"
   },
   "source": [
    "<a name = Section92></a>\n",
    "### **9.2 Actionable Insights**"
   ]
  },
  {
   "cell_type": "markdown",
   "metadata": {},
   "source": [
    "- Dealerships need to add more of Premium/ luxury used cars in their inventory at affordable prices.  This could attract more of the middle class families to be able to buy their dream car.\n",
    "- Though sedans are the most sought out body type, the used car showrooms can showcase more cross over body type cars.\n",
    "- The showrooms need to have only the cars that are relatively new as the customer purchase pattern is more aligned to cars purchased before 5 -10 years.\n",
    "- Though the technology has improved in terms of experimenting new fuel types, the Gas or the Electric still covers only a smaller percentage of fuel types. Dealers can still look at Petrol Engines itself as a viable fuel type.\n"
   ]
  }
 ],
 "metadata": {
  "colab": {
   "authorship_tag": "ABX9TyMHmKvZw75YZk7/dmuQc4DQ",
   "collapsed_sections": [],
   "name": "Analysis on Used Cars.ipynb",
   "provenance": []
  },
  "kernelspec": {
   "display_name": "Python 3",
   "language": "python",
   "name": "python3"
  },
  "language_info": {
   "codemirror_mode": {
    "name": "ipython",
    "version": 3
   },
   "file_extension": ".py",
   "mimetype": "text/x-python",
   "name": "python",
   "nbconvert_exporter": "python",
   "pygments_lexer": "ipython3",
   "version": "3.7.6"
  }
 },
 "nbformat": 4,
 "nbformat_minor": 1
}
